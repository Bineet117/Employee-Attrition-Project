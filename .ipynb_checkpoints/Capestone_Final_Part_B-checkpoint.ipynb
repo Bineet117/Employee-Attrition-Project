{
 "cells": [
  {
   "cell_type": "markdown",
   "id": "b80bf2d3",
   "metadata": {},
   "source": [
    "<table align=\"center\" width=100%>\n",
    "    <tr>\n",
    "        <td width=\"25%\">\n",
    "            <img src=\"GL-2.png\">\n",
    "        </td>\n",
    "        <td>\n",
    "            <div align=\"center\">\n",
    "                <font color=\"#21618C\" size=7px>\n",
    "                    <b> Capestone Project : GROUP 8<br>\n",
    "                    </b>\n",
    "                </font>\n",
    "            </div>\n",
    "        </td>\n",
    "    </tr>\n",
    "</table>"
   ]
  },
  {
   "cell_type": "markdown",
   "id": "b3c970a9",
   "metadata": {},
   "source": [
    "<table align=\"center\" width=100%>\n",
    "    <tr>\n",
    "        <td>\n",
    "            <div align=\"center\">\n",
    "                <font color=\"#21618C\" size=6px>\n",
    "                    <b>\n",
    "                        APPLICATION OF DATA SCIENCE TO REDUCE\n",
    " <br>\n",
    "                    </b>\n",
    "                </font>\n",
    "            </div>\n",
    "        </td>\n",
    "    </tr>\n",
    "</table>"
   ]
  },
  {
   "cell_type": "markdown",
   "id": "bc9d68f6",
   "metadata": {},
   "source": [
    "<table align=\"center\" width=110%>\n",
    "    <tr>\n",
    "        <td>\n",
    "            <div align=\"center\">\n",
    "                <font color=\"#21618C\" size=6px>\n",
    "                    <b>\n",
    "                        EMPLOYEE ATTRITION\n",
    " <br>\n",
    "                    </b>\n",
    "                </font>\n",
    "            </div>\n",
    "        </td>\n",
    "    </tr>\n",
    "</table>"
   ]
  },
  {
   "cell_type": "markdown",
   "id": "772a3e9f",
   "metadata": {},
   "source": [
    "<table align=\"center\" width=110%>\n",
    "    <tr>\n",
    "        <td>\n",
    "            <div align=\"center\">\n",
    "                <font color=\"#21618C\" size=6px>\n",
    "                    <b>\n",
    "                        Part - B\n",
    " <br>\n",
    "                    </b>\n",
    "                </font>\n",
    "            </div>\n",
    "        </td>\n",
    "    </tr>\n",
    "</table>"
   ]
  },
  {
   "cell_type": "markdown",
   "id": "736b28e8",
   "metadata": {},
   "source": [
    "## Libraries"
   ]
  },
  {
   "cell_type": "code",
   "execution_count": 1,
   "id": "9fff86de",
   "metadata": {},
   "outputs": [],
   "source": [
    "# import 'Pandas' \n",
    "import pandas as pd \n",
    "\n",
    "# import 'Numpy' \n",
    "import numpy as np\n",
    "\n",
    "# import subpackage of Matplotlib\n",
    "import matplotlib.pyplot as plt\n",
    "from matplotlib.colors import ListedColormap\n",
    "\n",
    "# import 'Seaborn' \n",
    "import seaborn as sns\n",
    "\n",
    "# to suppress warnings \n",
    "from warnings import filterwarnings\n",
    "filterwarnings('ignore')\n",
    "\n",
    "# display all columns of the dataframe\n",
    "pd.options.display.max_columns = None\n",
    "\n",
    "# display all rows of the dataframe\n",
    "pd.options.display.max_rows = None\n",
    " \n",
    "# to display the float values upto 6 decimal places     \n",
    "pd.options.display.float_format = '{:.6f}'.format\n",
    "\n",
    "# import train-test split \n",
    "from sklearn.model_selection import train_test_split\n",
    "\n",
    "# import various functions from statsmodels\n",
    "import statsmodels\n",
    "import statsmodels.api as sm\n",
    "\n",
    "# import StandardScaler to perform scaling\n",
    "from sklearn.preprocessing import StandardScaler \n",
    "\n",
    "# import various functions from sklearn \n",
    "from sklearn import metrics\n",
    "from sklearn.linear_model import LogisticRegression\n",
    "from sklearn.metrics import classification_report\n",
    "from sklearn.metrics import cohen_kappa_score\n",
    "from sklearn.metrics import confusion_matrix, ConfusionMatrixDisplay\n",
    "from sklearn.metrics import roc_curve, RocCurveDisplay, f1_score\n",
    "from sklearn.metrics import accuracy_score\n",
    "from scipy import stats\n",
    "\n",
    "from sklearn.pipeline import Pipeline\n",
    "from itertools import cycle\n",
    "from sklearn.naive_bayes import GaussianNB\n",
    "from sklearn.preprocessing import LabelEncoder, OrdinalEncoder, LabelBinarizer, OneHotEncoder\n",
    "from sklearn.preprocessing import StandardScaler, MinMaxScaler, RobustScaler\n",
    "from sklearn.model_selection import train_test_split, GridSearchCV, RandomizedSearchCV, cross_val_score\n",
    "import statsmodels\n",
    "import statsmodels.api as sm\n",
    "from sklearn.tree import DecisionTreeClassifier\n",
    "from sklearn.ensemble import RandomForestClassifier, AdaBoostClassifier, GradientBoostingClassifier\n",
    "from sklearn.neighbors import KNeighborsClassifier\n",
    "import xgboost\n",
    "from xgboost import XGBClassifier\n",
    "from imblearn.over_sampling import SMOTE\n",
    "from sklearn.metrics import accuracy_score,f1_score,accuracy_score, precision_score, recall_score\n",
    "from sklearn.metrics import roc_auc_score, roc_curve, classification_report\n",
    "from sklearn.metrics import mean_absolute_error, mean_absolute_percentage_error, mean_squared_error\n",
    "from statsmodels.stats.outliers_influence import variance_inflation_factor\n",
    "\n",
    "\n",
    "# import function to perform feature selection\n",
    "from sklearn.feature_selection import RFE, SequentialFeatureSelector\n",
    "\n",
    "# change the size of the graphs\n",
    "plt.rcParams['figure.figsize'] = [15,12]"
   ]
  },
  {
   "cell_type": "code",
   "execution_count": 2,
   "id": "81105bf0",
   "metadata": {},
   "outputs": [],
   "source": [
    "pd.set_option('display.max_columns',100)"
   ]
  },
  {
   "cell_type": "markdown",
   "id": "04679a95",
   "metadata": {},
   "source": [
    "# Load Dataset"
   ]
  },
  {
   "cell_type": "code",
   "execution_count": 3,
   "id": "d621c047",
   "metadata": {},
   "outputs": [],
   "source": [
    "df_final = pd.read_csv('df_final.csv')"
   ]
  },
  {
   "cell_type": "code",
   "execution_count": 4,
   "id": "581ce1f8",
   "metadata": {},
   "outputs": [
    {
     "data": {
      "text/html": [
       "<div>\n",
       "<style scoped>\n",
       "    .dataframe tbody tr th:only-of-type {\n",
       "        vertical-align: middle;\n",
       "    }\n",
       "\n",
       "    .dataframe tbody tr th {\n",
       "        vertical-align: top;\n",
       "    }\n",
       "\n",
       "    .dataframe thead th {\n",
       "        text-align: right;\n",
       "    }\n",
       "</style>\n",
       "<table border=\"1\" class=\"dataframe\">\n",
       "  <thead>\n",
       "    <tr style=\"text-align: right;\">\n",
       "      <th></th>\n",
       "      <th>Age</th>\n",
       "      <th>Attrition</th>\n",
       "      <th>DailyRate</th>\n",
       "      <th>DistanceFromHome</th>\n",
       "      <th>Education</th>\n",
       "      <th>EnvironmentSatisfaction</th>\n",
       "      <th>Gender</th>\n",
       "      <th>HourlyRate</th>\n",
       "      <th>JobInvolvement</th>\n",
       "      <th>JobLevel</th>\n",
       "      <th>JobSatisfaction</th>\n",
       "      <th>MonthlyIncome</th>\n",
       "      <th>MonthlyRate</th>\n",
       "      <th>NumCompaniesWorked</th>\n",
       "      <th>OverTime</th>\n",
       "      <th>PercentSalaryHike</th>\n",
       "      <th>PerformanceRating</th>\n",
       "      <th>RelationshipSatisfaction</th>\n",
       "      <th>StockOptionLevel</th>\n",
       "      <th>TotalWorkingYears</th>\n",
       "      <th>TrainingTimesLastYear</th>\n",
       "      <th>WorkLifeBalance</th>\n",
       "      <th>YearsAtCompany</th>\n",
       "      <th>YearsInCurrentRole</th>\n",
       "      <th>YearsSinceLastPromotion</th>\n",
       "      <th>YearsWithCurrManager</th>\n",
       "      <th>BusinessTravel_Travel_Frequently</th>\n",
       "      <th>BusinessTravel_Travel_Rarely</th>\n",
       "      <th>Department_Research &amp; Development</th>\n",
       "      <th>Department_Sales</th>\n",
       "      <th>EducationField_Life Sciences</th>\n",
       "      <th>EducationField_Marketing</th>\n",
       "      <th>EducationField_Medical</th>\n",
       "      <th>EducationField_Other</th>\n",
       "      <th>EducationField_Technical Degree</th>\n",
       "      <th>EducationField_Test</th>\n",
       "      <th>JobRole_Human Resources</th>\n",
       "      <th>JobRole_Laboratory Technician</th>\n",
       "      <th>JobRole_Manager</th>\n",
       "      <th>JobRole_Manufacturing Director</th>\n",
       "      <th>JobRole_Research Director</th>\n",
       "      <th>JobRole_Research Scientist</th>\n",
       "      <th>JobRole_Sales Executive</th>\n",
       "      <th>JobRole_Sales Representative</th>\n",
       "      <th>MaritalStatus_Married</th>\n",
       "      <th>MaritalStatus_Single</th>\n",
       "      <th>Employee_Source_Company Website</th>\n",
       "      <th>Employee_Source_GlassDoor</th>\n",
       "      <th>Employee_Source_Indeed</th>\n",
       "      <th>Employee_Source_Jora</th>\n",
       "      <th>Employee_Source_LinkedIn</th>\n",
       "      <th>Employee_Source_Recruit.net</th>\n",
       "      <th>Employee_Source_Referral</th>\n",
       "      <th>Employee_Source_Seek</th>\n",
       "    </tr>\n",
       "  </thead>\n",
       "  <tbody>\n",
       "    <tr>\n",
       "      <th>0</th>\n",
       "      <td>5.846109</td>\n",
       "      <td>1</td>\n",
       "      <td>245.328002</td>\n",
       "      <td>0.698403</td>\n",
       "      <td>2.489792</td>\n",
       "      <td>2.527807</td>\n",
       "      <td>0</td>\n",
       "      <td>49.027914</td>\n",
       "      <td>6.137491</td>\n",
       "      <td>0.746814</td>\n",
       "      <td>5.881209</td>\n",
       "      <td>4.065872</td>\n",
       "      <td>1607.384643</td>\n",
       "      <td>2.029539</td>\n",
       "      <td>1</td>\n",
       "      <td>0.697659</td>\n",
       "      <td>0.034998</td>\n",
       "      <td>1.135308</td>\n",
       "      <td>0.000000</td>\n",
       "      <td>3.118973</td>\n",
       "      <td>0.000000</td>\n",
       "      <td>1.416107</td>\n",
       "      <td>2.167436</td>\n",
       "      <td>1.981769</td>\n",
       "      <td>0.000000</td>\n",
       "      <td>2.252602</td>\n",
       "      <td>0</td>\n",
       "      <td>1</td>\n",
       "      <td>0</td>\n",
       "      <td>1</td>\n",
       "      <td>1</td>\n",
       "      <td>0</td>\n",
       "      <td>0</td>\n",
       "      <td>0</td>\n",
       "      <td>0</td>\n",
       "      <td>0</td>\n",
       "      <td>0</td>\n",
       "      <td>0</td>\n",
       "      <td>0</td>\n",
       "      <td>0</td>\n",
       "      <td>0</td>\n",
       "      <td>0</td>\n",
       "      <td>1</td>\n",
       "      <td>0</td>\n",
       "      <td>0</td>\n",
       "      <td>1</td>\n",
       "      <td>0</td>\n",
       "      <td>0</td>\n",
       "      <td>0</td>\n",
       "      <td>0</td>\n",
       "      <td>0</td>\n",
       "      <td>0</td>\n",
       "      <td>1</td>\n",
       "      <td>0</td>\n",
       "    </tr>\n",
       "    <tr>\n",
       "      <th>1</th>\n",
       "      <td>5.846109</td>\n",
       "      <td>1</td>\n",
       "      <td>245.328002</td>\n",
       "      <td>0.698403</td>\n",
       "      <td>2.489792</td>\n",
       "      <td>2.527807</td>\n",
       "      <td>0</td>\n",
       "      <td>49.027914</td>\n",
       "      <td>6.137491</td>\n",
       "      <td>0.746814</td>\n",
       "      <td>5.881209</td>\n",
       "      <td>4.065872</td>\n",
       "      <td>1607.384643</td>\n",
       "      <td>1.518198</td>\n",
       "      <td>1</td>\n",
       "      <td>0.697659</td>\n",
       "      <td>0.034998</td>\n",
       "      <td>1.135308</td>\n",
       "      <td>0.000000</td>\n",
       "      <td>3.118973</td>\n",
       "      <td>0.000000</td>\n",
       "      <td>1.416107</td>\n",
       "      <td>2.167436</td>\n",
       "      <td>1.981769</td>\n",
       "      <td>0.000000</td>\n",
       "      <td>2.252602</td>\n",
       "      <td>0</td>\n",
       "      <td>1</td>\n",
       "      <td>0</td>\n",
       "      <td>1</td>\n",
       "      <td>1</td>\n",
       "      <td>0</td>\n",
       "      <td>0</td>\n",
       "      <td>0</td>\n",
       "      <td>0</td>\n",
       "      <td>0</td>\n",
       "      <td>0</td>\n",
       "      <td>0</td>\n",
       "      <td>0</td>\n",
       "      <td>0</td>\n",
       "      <td>0</td>\n",
       "      <td>0</td>\n",
       "      <td>1</td>\n",
       "      <td>0</td>\n",
       "      <td>0</td>\n",
       "      <td>1</td>\n",
       "      <td>0</td>\n",
       "      <td>0</td>\n",
       "      <td>0</td>\n",
       "      <td>0</td>\n",
       "      <td>0</td>\n",
       "      <td>0</td>\n",
       "      <td>1</td>\n",
       "      <td>0</td>\n",
       "    </tr>\n",
       "    <tr>\n",
       "      <th>2</th>\n",
       "      <td>5.846109</td>\n",
       "      <td>1</td>\n",
       "      <td>245.328002</td>\n",
       "      <td>0.698403</td>\n",
       "      <td>2.489792</td>\n",
       "      <td>2.527807</td>\n",
       "      <td>0</td>\n",
       "      <td>49.027914</td>\n",
       "      <td>6.137491</td>\n",
       "      <td>0.746814</td>\n",
       "      <td>5.881209</td>\n",
       "      <td>4.065872</td>\n",
       "      <td>1607.384643</td>\n",
       "      <td>2.029539</td>\n",
       "      <td>1</td>\n",
       "      <td>0.697659</td>\n",
       "      <td>0.034998</td>\n",
       "      <td>1.135308</td>\n",
       "      <td>0.000000</td>\n",
       "      <td>3.118973</td>\n",
       "      <td>0.000000</td>\n",
       "      <td>1.416107</td>\n",
       "      <td>2.167436</td>\n",
       "      <td>1.981769</td>\n",
       "      <td>0.000000</td>\n",
       "      <td>2.252602</td>\n",
       "      <td>0</td>\n",
       "      <td>1</td>\n",
       "      <td>0</td>\n",
       "      <td>1</td>\n",
       "      <td>1</td>\n",
       "      <td>0</td>\n",
       "      <td>0</td>\n",
       "      <td>0</td>\n",
       "      <td>0</td>\n",
       "      <td>0</td>\n",
       "      <td>0</td>\n",
       "      <td>0</td>\n",
       "      <td>0</td>\n",
       "      <td>0</td>\n",
       "      <td>0</td>\n",
       "      <td>0</td>\n",
       "      <td>1</td>\n",
       "      <td>0</td>\n",
       "      <td>0</td>\n",
       "      <td>1</td>\n",
       "      <td>0</td>\n",
       "      <td>0</td>\n",
       "      <td>0</td>\n",
       "      <td>0</td>\n",
       "      <td>0</td>\n",
       "      <td>0</td>\n",
       "      <td>1</td>\n",
       "      <td>0</td>\n",
       "    </tr>\n",
       "  </tbody>\n",
       "</table>\n",
       "</div>"
      ],
      "text/plain": [
       "       Age  Attrition  DailyRate  DistanceFromHome  Education  \\\n",
       "0 5.846109          1 245.328002          0.698403   2.489792   \n",
       "1 5.846109          1 245.328002          0.698403   2.489792   \n",
       "2 5.846109          1 245.328002          0.698403   2.489792   \n",
       "\n",
       "   EnvironmentSatisfaction  Gender  HourlyRate  JobInvolvement  JobLevel  \\\n",
       "0                 2.527807       0   49.027914        6.137491  0.746814   \n",
       "1                 2.527807       0   49.027914        6.137491  0.746814   \n",
       "2                 2.527807       0   49.027914        6.137491  0.746814   \n",
       "\n",
       "   JobSatisfaction  MonthlyIncome  MonthlyRate  NumCompaniesWorked  OverTime  \\\n",
       "0         5.881209       4.065872  1607.384643            2.029539         1   \n",
       "1         5.881209       4.065872  1607.384643            1.518198         1   \n",
       "2         5.881209       4.065872  1607.384643            2.029539         1   \n",
       "\n",
       "   PercentSalaryHike  PerformanceRating  RelationshipSatisfaction  \\\n",
       "0           0.697659           0.034998                  1.135308   \n",
       "1           0.697659           0.034998                  1.135308   \n",
       "2           0.697659           0.034998                  1.135308   \n",
       "\n",
       "   StockOptionLevel  TotalWorkingYears  TrainingTimesLastYear  \\\n",
       "0          0.000000           3.118973               0.000000   \n",
       "1          0.000000           3.118973               0.000000   \n",
       "2          0.000000           3.118973               0.000000   \n",
       "\n",
       "   WorkLifeBalance  YearsAtCompany  YearsInCurrentRole  \\\n",
       "0         1.416107        2.167436            1.981769   \n",
       "1         1.416107        2.167436            1.981769   \n",
       "2         1.416107        2.167436            1.981769   \n",
       "\n",
       "   YearsSinceLastPromotion  YearsWithCurrManager  \\\n",
       "0                 0.000000              2.252602   \n",
       "1                 0.000000              2.252602   \n",
       "2                 0.000000              2.252602   \n",
       "\n",
       "   BusinessTravel_Travel_Frequently  BusinessTravel_Travel_Rarely  \\\n",
       "0                                 0                             1   \n",
       "1                                 0                             1   \n",
       "2                                 0                             1   \n",
       "\n",
       "   Department_Research & Development  Department_Sales  \\\n",
       "0                                  0                 1   \n",
       "1                                  0                 1   \n",
       "2                                  0                 1   \n",
       "\n",
       "   EducationField_Life Sciences  EducationField_Marketing  \\\n",
       "0                             1                         0   \n",
       "1                             1                         0   \n",
       "2                             1                         0   \n",
       "\n",
       "   EducationField_Medical  EducationField_Other  \\\n",
       "0                       0                     0   \n",
       "1                       0                     0   \n",
       "2                       0                     0   \n",
       "\n",
       "   EducationField_Technical Degree  EducationField_Test  \\\n",
       "0                                0                    0   \n",
       "1                                0                    0   \n",
       "2                                0                    0   \n",
       "\n",
       "   JobRole_Human Resources  JobRole_Laboratory Technician  JobRole_Manager  \\\n",
       "0                        0                              0                0   \n",
       "1                        0                              0                0   \n",
       "2                        0                              0                0   \n",
       "\n",
       "   JobRole_Manufacturing Director  JobRole_Research Director  \\\n",
       "0                               0                          0   \n",
       "1                               0                          0   \n",
       "2                               0                          0   \n",
       "\n",
       "   JobRole_Research Scientist  JobRole_Sales Executive  \\\n",
       "0                           0                        1   \n",
       "1                           0                        1   \n",
       "2                           0                        1   \n",
       "\n",
       "   JobRole_Sales Representative  MaritalStatus_Married  MaritalStatus_Single  \\\n",
       "0                             0                      0                     1   \n",
       "1                             0                      0                     1   \n",
       "2                             0                      0                     1   \n",
       "\n",
       "   Employee_Source_Company Website  Employee_Source_GlassDoor  \\\n",
       "0                                0                          0   \n",
       "1                                0                          0   \n",
       "2                                0                          0   \n",
       "\n",
       "   Employee_Source_Indeed  Employee_Source_Jora  Employee_Source_LinkedIn  \\\n",
       "0                       0                     0                         0   \n",
       "1                       0                     0                         0   \n",
       "2                       0                     0                         0   \n",
       "\n",
       "   Employee_Source_Recruit.net  Employee_Source_Referral  Employee_Source_Seek  \n",
       "0                            0                         1                     0  \n",
       "1                            0                         1                     0  \n",
       "2                            0                         1                     0  "
      ]
     },
     "execution_count": 4,
     "metadata": {},
     "output_type": "execute_result"
    }
   ],
   "source": [
    "df_final.drop(columns=['Unnamed: 0'],axis=1,inplace=True)\n",
    "df_final.head(3)"
   ]
  },
  {
   "cell_type": "markdown",
   "id": "5bebf8ef",
   "metadata": {},
   "source": [
    "# Statistical Model"
   ]
  },
  {
   "cell_type": "markdown",
   "id": "5d71b0fe",
   "metadata": {},
   "source": [
    "### Statistical model is a mathematical model that is used to predict a continuous outcome based on one or more input variables. The goal of regression analysis is to find the statistical relationship between the input variables (also known as predictors or independent variables) and the output variable (also known as the response or dependent variable)."
   ]
  },
  {
   "cell_type": "code",
   "execution_count": 5,
   "id": "9655ecd1",
   "metadata": {},
   "outputs": [
    {
     "name": "stdout",
     "output_type": "stream",
     "text": [
      "Independent Features : (23186, 53)\n",
      "Dependent Features : (23186,)\n"
     ]
    }
   ],
   "source": [
    "X=df_final.drop('Attrition',axis=1)\n",
    "y=df_final['Attrition']\n",
    "\n",
    "print('Independent Features :',X.shape)\n",
    "print('Dependent Features :',y.shape)"
   ]
  },
  {
   "cell_type": "code",
   "execution_count": 6,
   "id": "82d4d80f",
   "metadata": {
    "scrolled": false
   },
   "outputs": [
    {
     "name": "stdout",
     "output_type": "stream",
     "text": [
      "Warning: Maximum number of iterations has been exceeded.\n",
      "         Current function value: 0.373340\n",
      "         Iterations: 35\n"
     ]
    },
    {
     "name": "stderr",
     "output_type": "stream",
     "text": [
      "C:\\Users\\91822\\anaconda3\\lib\\site-packages\\statsmodels\\base\\model.py:604: ConvergenceWarning: Maximum Likelihood optimization failed to converge. Check mle_retvals\n",
      "  warnings.warn(\"Maximum Likelihood optimization failed to \"\n"
     ]
    },
    {
     "data": {
      "text/html": [
       "<table class=\"simpletable\">\n",
       "<caption>Logit Regression Results</caption>\n",
       "<tr>\n",
       "  <th>Dep. Variable:</th>       <td>Attrition</td>    <th>  No. Observations:  </th>  <td> 23186</td> \n",
       "</tr>\n",
       "<tr>\n",
       "  <th>Model:</th>                 <td>Logit</td>      <th>  Df Residuals:      </th>  <td> 23133</td> \n",
       "</tr>\n",
       "<tr>\n",
       "  <th>Method:</th>                 <td>MLE</td>       <th>  Df Model:          </th>  <td>    52</td> \n",
       "</tr>\n",
       "<tr>\n",
       "  <th>Date:</th>            <td>Tue, 14 Mar 2023</td> <th>  Pseudo R-squ.:     </th>  <td>0.1440</td> \n",
       "</tr>\n",
       "<tr>\n",
       "  <th>Time:</th>                <td>07:58:03</td>     <th>  Log-Likelihood:    </th> <td> -8656.3</td>\n",
       "</tr>\n",
       "<tr>\n",
       "  <th>converged:</th>             <td>False</td>      <th>  LL-Null:           </th> <td> -10113.</td>\n",
       "</tr>\n",
       "<tr>\n",
       "  <th>Covariance Type:</th>     <td>nonrobust</td>    <th>  LLR p-value:       </th>  <td> 0.000</td> \n",
       "</tr>\n",
       "</table>\n",
       "<table class=\"simpletable\">\n",
       "<tr>\n",
       "                  <td></td>                     <th>coef</th>     <th>std err</th>      <th>z</th>      <th>P>|z|</th>  <th>[0.025</th>    <th>0.975]</th>  \n",
       "</tr>\n",
       "<tr>\n",
       "  <th>Age</th>                               <td>   -0.8670</td> <td>    0.040</td> <td>  -21.547</td> <td> 0.000</td> <td>   -0.946</td> <td>   -0.788</td>\n",
       "</tr>\n",
       "<tr>\n",
       "  <th>DailyRate</th>                         <td>   -0.0022</td> <td>    0.000</td> <td>   -8.274</td> <td> 0.000</td> <td>   -0.003</td> <td>   -0.002</td>\n",
       "</tr>\n",
       "<tr>\n",
       "  <th>DistanceFromHome</th>                  <td>    0.1994</td> <td>    0.025</td> <td>    7.898</td> <td> 0.000</td> <td>    0.150</td> <td>    0.249</td>\n",
       "</tr>\n",
       "<tr>\n",
       "  <th>Education</th>                         <td>    0.0151</td> <td>    0.013</td> <td>    1.180</td> <td> 0.238</td> <td>   -0.010</td> <td>    0.040</td>\n",
       "</tr>\n",
       "<tr>\n",
       "  <th>EnvironmentSatisfaction</th>           <td>   -0.1313</td> <td>    0.013</td> <td>  -10.134</td> <td> 0.000</td> <td>   -0.157</td> <td>   -0.106</td>\n",
       "</tr>\n",
       "<tr>\n",
       "  <th>Gender</th>                            <td>    0.1065</td> <td>    0.040</td> <td>    2.634</td> <td> 0.008</td> <td>    0.027</td> <td>    0.186</td>\n",
       "</tr>\n",
       "<tr>\n",
       "  <th>HourlyRate</th>                        <td>    0.0150</td> <td>    0.002</td> <td>    6.462</td> <td> 0.000</td> <td>    0.010</td> <td>    0.020</td>\n",
       "</tr>\n",
       "<tr>\n",
       "  <th>JobInvolvement</th>                    <td>   -0.1078</td> <td>    0.010</td> <td>  -10.520</td> <td> 0.000</td> <td>   -0.128</td> <td>   -0.088</td>\n",
       "</tr>\n",
       "<tr>\n",
       "  <th>JobLevel</th>                          <td>   -0.2398</td> <td>    0.365</td> <td>   -0.657</td> <td> 0.511</td> <td>   -0.956</td> <td>    0.476</td>\n",
       "</tr>\n",
       "<tr>\n",
       "  <th>JobSatisfaction</th>                   <td>   -0.1087</td> <td>    0.011</td> <td>   -9.699</td> <td> 0.000</td> <td>   -0.131</td> <td>   -0.087</td>\n",
       "</tr>\n",
       "<tr>\n",
       "  <th>MonthlyIncome</th>                     <td>   -1.0916</td> <td>    0.432</td> <td>   -2.525</td> <td> 0.012</td> <td>   -1.939</td> <td>   -0.244</td>\n",
       "</tr>\n",
       "<tr>\n",
       "  <th>MonthlyRate</th>                       <td>  1.87e-05</td> <td> 4.15e-05</td> <td>    0.450</td> <td> 0.653</td> <td>-6.27e-05</td> <td>    0.000</td>\n",
       "</tr>\n",
       "<tr>\n",
       "  <th>NumCompaniesWorked</th>                <td>    0.1371</td> <td>    0.037</td> <td>    3.743</td> <td> 0.000</td> <td>    0.065</td> <td>    0.209</td>\n",
       "</tr>\n",
       "<tr>\n",
       "  <th>OverTime</th>                          <td>    0.9071</td> <td>    0.041</td> <td>   22.189</td> <td> 0.000</td> <td>    0.827</td> <td>    0.987</td>\n",
       "</tr>\n",
       "<tr>\n",
       "  <th>PercentSalaryHike</th>                 <td>  -18.6649</td> <td>    4.415</td> <td>   -4.228</td> <td> 0.000</td> <td>  -27.318</td> <td>  -10.012</td>\n",
       "</tr>\n",
       "<tr>\n",
       "  <th>PerformanceRating</th>                 <td>  609.7358</td> <td>  100.894</td> <td>    6.043</td> <td> 0.000</td> <td>  411.987</td> <td>  807.485</td>\n",
       "</tr>\n",
       "<tr>\n",
       "  <th>RelationshipSatisfaction</th>          <td>   -0.0269</td> <td>    0.012</td> <td>   -2.211</td> <td> 0.027</td> <td>   -0.051</td> <td>   -0.003</td>\n",
       "</tr>\n",
       "<tr>\n",
       "  <th>StockOptionLevel</th>                  <td>   -0.4427</td> <td>    0.079</td> <td>   -5.581</td> <td> 0.000</td> <td>   -0.598</td> <td>   -0.287</td>\n",
       "</tr>\n",
       "<tr>\n",
       "  <th>TotalWorkingYears</th>                 <td>   -0.0014</td> <td>    0.026</td> <td>   -0.053</td> <td> 0.958</td> <td>   -0.053</td> <td>    0.050</td>\n",
       "</tr>\n",
       "<tr>\n",
       "  <th>TrainingTimesLastYear</th>             <td>   -0.2025</td> <td>    0.025</td> <td>   -8.000</td> <td> 0.000</td> <td>   -0.252</td> <td>   -0.153</td>\n",
       "</tr>\n",
       "<tr>\n",
       "  <th>WorkLifeBalance</th>                   <td>   -0.0412</td> <td>    0.009</td> <td>   -4.439</td> <td> 0.000</td> <td>   -0.059</td> <td>   -0.023</td>\n",
       "</tr>\n",
       "<tr>\n",
       "  <th>YearsAtCompany</th>                    <td>    0.0769</td> <td>    0.053</td> <td>    1.445</td> <td> 0.148</td> <td>   -0.027</td> <td>    0.181</td>\n",
       "</tr>\n",
       "<tr>\n",
       "  <th>YearsInCurrentRole</th>                <td>   -0.2277</td> <td>    0.033</td> <td>   -6.889</td> <td> 0.000</td> <td>   -0.292</td> <td>   -0.163</td>\n",
       "</tr>\n",
       "<tr>\n",
       "  <th>YearsSinceLastPromotion</th>           <td>    0.2730</td> <td>    0.051</td> <td>    5.401</td> <td> 0.000</td> <td>    0.174</td> <td>    0.372</td>\n",
       "</tr>\n",
       "<tr>\n",
       "  <th>YearsWithCurrManager</th>              <td>   -0.0230</td> <td>    0.033</td> <td>   -0.687</td> <td> 0.492</td> <td>   -0.089</td> <td>    0.043</td>\n",
       "</tr>\n",
       "<tr>\n",
       "  <th>BusinessTravel_Travel_Frequently</th>  <td>    1.4342</td> <td>    0.089</td> <td>   16.081</td> <td> 0.000</td> <td>    1.259</td> <td>    1.609</td>\n",
       "</tr>\n",
       "<tr>\n",
       "  <th>BusinessTravel_Travel_Rarely</th>      <td>    0.7139</td> <td>    0.084</td> <td>    8.535</td> <td> 0.000</td> <td>    0.550</td> <td>    0.878</td>\n",
       "</tr>\n",
       "<tr>\n",
       "  <th>Department_Research & Development</th> <td>   -0.3772</td> <td>    0.109</td> <td>   -3.470</td> <td> 0.001</td> <td>   -0.590</td> <td>   -0.164</td>\n",
       "</tr>\n",
       "<tr>\n",
       "  <th>Department_Sales</th>                  <td>    0.1038</td> <td>    0.112</td> <td>    0.926</td> <td> 0.354</td> <td>   -0.116</td> <td>    0.323</td>\n",
       "</tr>\n",
       "<tr>\n",
       "  <th>EducationField_Life Sciences</th>      <td>   -0.0420</td> <td>    0.153</td> <td>   -0.274</td> <td> 0.784</td> <td>   -0.342</td> <td>    0.258</td>\n",
       "</tr>\n",
       "<tr>\n",
       "  <th>EducationField_Marketing</th>          <td>   -0.0039</td> <td>    0.163</td> <td>   -0.024</td> <td> 0.981</td> <td>   -0.324</td> <td>    0.316</td>\n",
       "</tr>\n",
       "<tr>\n",
       "  <th>EducationField_Medical</th>            <td>   -0.0459</td> <td>    0.156</td> <td>   -0.294</td> <td> 0.768</td> <td>   -0.352</td> <td>    0.260</td>\n",
       "</tr>\n",
       "<tr>\n",
       "  <th>EducationField_Other</th>              <td>    0.0205</td> <td>    0.172</td> <td>    0.119</td> <td> 0.905</td> <td>   -0.318</td> <td>    0.359</td>\n",
       "</tr>\n",
       "<tr>\n",
       "  <th>EducationField_Technical Degree</th>   <td>    0.3895</td> <td>    0.165</td> <td>    2.360</td> <td> 0.018</td> <td>    0.066</td> <td>    0.713</td>\n",
       "</tr>\n",
       "<tr>\n",
       "  <th>EducationField_Test</th>               <td>  -14.2241</td> <td> 4780.234</td> <td>   -0.003</td> <td> 0.998</td> <td>-9383.311</td> <td> 9354.863</td>\n",
       "</tr>\n",
       "<tr>\n",
       "  <th>JobRole_Human Resources</th>           <td>   -0.1358</td> <td>    0.139</td> <td>   -0.980</td> <td> 0.327</td> <td>   -0.407</td> <td>    0.136</td>\n",
       "</tr>\n",
       "<tr>\n",
       "  <th>JobRole_Laboratory Technician</th>     <td>    0.0590</td> <td>    0.101</td> <td>    0.587</td> <td> 0.557</td> <td>   -0.138</td> <td>    0.256</td>\n",
       "</tr>\n",
       "<tr>\n",
       "  <th>JobRole_Manager</th>                   <td>   -0.1369</td> <td>    0.124</td> <td>   -1.101</td> <td> 0.271</td> <td>   -0.381</td> <td>    0.107</td>\n",
       "</tr>\n",
       "<tr>\n",
       "  <th>JobRole_Manufacturing Director</th>    <td>   -0.1054</td> <td>    0.097</td> <td>   -1.090</td> <td> 0.276</td> <td>   -0.295</td> <td>    0.084</td>\n",
       "</tr>\n",
       "<tr>\n",
       "  <th>JobRole_Research Director</th>         <td>   -0.1381</td> <td>    0.129</td> <td>   -1.070</td> <td> 0.285</td> <td>   -0.391</td> <td>    0.115</td>\n",
       "</tr>\n",
       "<tr>\n",
       "  <th>JobRole_Research Scientist</th>        <td>   -0.3124</td> <td>    0.104</td> <td>   -3.002</td> <td> 0.003</td> <td>   -0.516</td> <td>   -0.108</td>\n",
       "</tr>\n",
       "<tr>\n",
       "  <th>JobRole_Sales Executive</th>           <td>   -0.1107</td> <td>    0.090</td> <td>   -1.235</td> <td> 0.217</td> <td>   -0.286</td> <td>    0.065</td>\n",
       "</tr>\n",
       "<tr>\n",
       "  <th>JobRole_Sales Representative</th>      <td>   -0.0001</td> <td>    0.126</td> <td>   -0.001</td> <td> 0.999</td> <td>   -0.247</td> <td>    0.246</td>\n",
       "</tr>\n",
       "<tr>\n",
       "  <th>MaritalStatus_Married</th>             <td>    0.1051</td> <td>    0.057</td> <td>    1.829</td> <td> 0.067</td> <td>   -0.008</td> <td>    0.218</td>\n",
       "</tr>\n",
       "<tr>\n",
       "  <th>MaritalStatus_Single</th>              <td>    0.4401</td> <td>    0.077</td> <td>    5.715</td> <td> 0.000</td> <td>    0.289</td> <td>    0.591</td>\n",
       "</tr>\n",
       "<tr>\n",
       "  <th>Employee_Source_Company Website</th>   <td>    0.2058</td> <td>    0.078</td> <td>    2.646</td> <td> 0.008</td> <td>    0.053</td> <td>    0.358</td>\n",
       "</tr>\n",
       "<tr>\n",
       "  <th>Employee_Source_GlassDoor</th>         <td>    0.0281</td> <td>    0.093</td> <td>    0.303</td> <td> 0.762</td> <td>   -0.154</td> <td>    0.210</td>\n",
       "</tr>\n",
       "<tr>\n",
       "  <th>Employee_Source_Indeed</th>            <td>    0.0001</td> <td>    0.093</td> <td>    0.001</td> <td> 0.999</td> <td>   -0.182</td> <td>    0.182</td>\n",
       "</tr>\n",
       "<tr>\n",
       "  <th>Employee_Source_Jora</th>              <td>    0.1306</td> <td>    0.089</td> <td>    1.471</td> <td> 0.141</td> <td>   -0.043</td> <td>    0.305</td>\n",
       "</tr>\n",
       "<tr>\n",
       "  <th>Employee_Source_LinkedIn</th>          <td>   -0.1110</td> <td>    0.094</td> <td>   -1.176</td> <td> 0.239</td> <td>   -0.296</td> <td>    0.074</td>\n",
       "</tr>\n",
       "<tr>\n",
       "  <th>Employee_Source_Recruit.net</th>       <td>   -0.1798</td> <td>    0.094</td> <td>   -1.912</td> <td> 0.056</td> <td>   -0.364</td> <td>    0.004</td>\n",
       "</tr>\n",
       "<tr>\n",
       "  <th>Employee_Source_Referral</th>          <td>    0.3429</td> <td>    0.153</td> <td>    2.238</td> <td> 0.025</td> <td>    0.043</td> <td>    0.643</td>\n",
       "</tr>\n",
       "<tr>\n",
       "  <th>Employee_Source_Seek</th>              <td>   -0.0893</td> <td>    0.083</td> <td>   -1.075</td> <td> 0.283</td> <td>   -0.252</td> <td>    0.074</td>\n",
       "</tr>\n",
       "</table>"
      ],
      "text/plain": [
       "<class 'statsmodels.iolib.summary.Summary'>\n",
       "\"\"\"\n",
       "                           Logit Regression Results                           \n",
       "==============================================================================\n",
       "Dep. Variable:              Attrition   No. Observations:                23186\n",
       "Model:                          Logit   Df Residuals:                    23133\n",
       "Method:                           MLE   Df Model:                           52\n",
       "Date:                Tue, 14 Mar 2023   Pseudo R-squ.:                  0.1440\n",
       "Time:                        07:58:03   Log-Likelihood:                -8656.3\n",
       "converged:                      False   LL-Null:                       -10113.\n",
       "Covariance Type:            nonrobust   LLR p-value:                     0.000\n",
       "=====================================================================================================\n",
       "                                        coef    std err          z      P>|z|      [0.025      0.975]\n",
       "-----------------------------------------------------------------------------------------------------\n",
       "Age                                  -0.8670      0.040    -21.547      0.000      -0.946      -0.788\n",
       "DailyRate                            -0.0022      0.000     -8.274      0.000      -0.003      -0.002\n",
       "DistanceFromHome                      0.1994      0.025      7.898      0.000       0.150       0.249\n",
       "Education                             0.0151      0.013      1.180      0.238      -0.010       0.040\n",
       "EnvironmentSatisfaction              -0.1313      0.013    -10.134      0.000      -0.157      -0.106\n",
       "Gender                                0.1065      0.040      2.634      0.008       0.027       0.186\n",
       "HourlyRate                            0.0150      0.002      6.462      0.000       0.010       0.020\n",
       "JobInvolvement                       -0.1078      0.010    -10.520      0.000      -0.128      -0.088\n",
       "JobLevel                             -0.2398      0.365     -0.657      0.511      -0.956       0.476\n",
       "JobSatisfaction                      -0.1087      0.011     -9.699      0.000      -0.131      -0.087\n",
       "MonthlyIncome                        -1.0916      0.432     -2.525      0.012      -1.939      -0.244\n",
       "MonthlyRate                         1.87e-05   4.15e-05      0.450      0.653   -6.27e-05       0.000\n",
       "NumCompaniesWorked                    0.1371      0.037      3.743      0.000       0.065       0.209\n",
       "OverTime                              0.9071      0.041     22.189      0.000       0.827       0.987\n",
       "PercentSalaryHike                   -18.6649      4.415     -4.228      0.000     -27.318     -10.012\n",
       "PerformanceRating                   609.7358    100.894      6.043      0.000     411.987     807.485\n",
       "RelationshipSatisfaction             -0.0269      0.012     -2.211      0.027      -0.051      -0.003\n",
       "StockOptionLevel                     -0.4427      0.079     -5.581      0.000      -0.598      -0.287\n",
       "TotalWorkingYears                    -0.0014      0.026     -0.053      0.958      -0.053       0.050\n",
       "TrainingTimesLastYear                -0.2025      0.025     -8.000      0.000      -0.252      -0.153\n",
       "WorkLifeBalance                      -0.0412      0.009     -4.439      0.000      -0.059      -0.023\n",
       "YearsAtCompany                        0.0769      0.053      1.445      0.148      -0.027       0.181\n",
       "YearsInCurrentRole                   -0.2277      0.033     -6.889      0.000      -0.292      -0.163\n",
       "YearsSinceLastPromotion               0.2730      0.051      5.401      0.000       0.174       0.372\n",
       "YearsWithCurrManager                 -0.0230      0.033     -0.687      0.492      -0.089       0.043\n",
       "BusinessTravel_Travel_Frequently      1.4342      0.089     16.081      0.000       1.259       1.609\n",
       "BusinessTravel_Travel_Rarely          0.7139      0.084      8.535      0.000       0.550       0.878\n",
       "Department_Research & Development    -0.3772      0.109     -3.470      0.001      -0.590      -0.164\n",
       "Department_Sales                      0.1038      0.112      0.926      0.354      -0.116       0.323\n",
       "EducationField_Life Sciences         -0.0420      0.153     -0.274      0.784      -0.342       0.258\n",
       "EducationField_Marketing             -0.0039      0.163     -0.024      0.981      -0.324       0.316\n",
       "EducationField_Medical               -0.0459      0.156     -0.294      0.768      -0.352       0.260\n",
       "EducationField_Other                  0.0205      0.172      0.119      0.905      -0.318       0.359\n",
       "EducationField_Technical Degree       0.3895      0.165      2.360      0.018       0.066       0.713\n",
       "EducationField_Test                 -14.2241   4780.234     -0.003      0.998   -9383.311    9354.863\n",
       "JobRole_Human Resources              -0.1358      0.139     -0.980      0.327      -0.407       0.136\n",
       "JobRole_Laboratory Technician         0.0590      0.101      0.587      0.557      -0.138       0.256\n",
       "JobRole_Manager                      -0.1369      0.124     -1.101      0.271      -0.381       0.107\n",
       "JobRole_Manufacturing Director       -0.1054      0.097     -1.090      0.276      -0.295       0.084\n",
       "JobRole_Research Director            -0.1381      0.129     -1.070      0.285      -0.391       0.115\n",
       "JobRole_Research Scientist           -0.3124      0.104     -3.002      0.003      -0.516      -0.108\n",
       "JobRole_Sales Executive              -0.1107      0.090     -1.235      0.217      -0.286       0.065\n",
       "JobRole_Sales Representative         -0.0001      0.126     -0.001      0.999      -0.247       0.246\n",
       "MaritalStatus_Married                 0.1051      0.057      1.829      0.067      -0.008       0.218\n",
       "MaritalStatus_Single                  0.4401      0.077      5.715      0.000       0.289       0.591\n",
       "Employee_Source_Company Website       0.2058      0.078      2.646      0.008       0.053       0.358\n",
       "Employee_Source_GlassDoor             0.0281      0.093      0.303      0.762      -0.154       0.210\n",
       "Employee_Source_Indeed                0.0001      0.093      0.001      0.999      -0.182       0.182\n",
       "Employee_Source_Jora                  0.1306      0.089      1.471      0.141      -0.043       0.305\n",
       "Employee_Source_LinkedIn             -0.1110      0.094     -1.176      0.239      -0.296       0.074\n",
       "Employee_Source_Recruit.net          -0.1798      0.094     -1.912      0.056      -0.364       0.004\n",
       "Employee_Source_Referral              0.3429      0.153      2.238      0.025       0.043       0.643\n",
       "Employee_Source_Seek                 -0.0893      0.083     -1.075      0.283      -0.252       0.074\n",
       "=====================================================================================================\n",
       "\"\"\""
      ]
     },
     "execution_count": 6,
     "metadata": {},
     "output_type": "execute_result"
    }
   ],
   "source": [
    "Xc = sm.add_constant(X)\n",
    "model=sm.Logit(y,Xc).fit()\n",
    "result=model.summary()\n",
    "result"
   ]
  },
  {
   "cell_type": "markdown",
   "id": "2aaea5fa",
   "metadata": {},
   "source": [
    "## Train-Test Split"
   ]
  },
  {
   "cell_type": "markdown",
   "id": "be524b81",
   "metadata": {},
   "source": [
    "### Splitting the dataset into independent features 'X' and target variable 'y'"
   ]
  },
  {
   "cell_type": "code",
   "execution_count": 7,
   "id": "cd0b630f",
   "metadata": {},
   "outputs": [
    {
     "name": "stdout",
     "output_type": "stream",
     "text": [
      "Independent Features : (23186, 53)\n",
      "Dependent Features : (23186,)\n"
     ]
    }
   ],
   "source": [
    "X=df_final.drop('Attrition',axis=1)\n",
    "y=df_final['Attrition']\n",
    "\n",
    "print('Independent Features :',X.shape)\n",
    "print('Dependent Features :',y.shape)"
   ]
  },
  {
   "cell_type": "code",
   "execution_count": 8,
   "id": "e7bc3dbc",
   "metadata": {},
   "outputs": [
    {
     "name": "stdout",
     "output_type": "stream",
     "text": [
      "X_train (16230, 53)\n",
      "y_train (16230,)\n",
      "X_test (6956, 53)\n",
      "y_test (6956,)\n"
     ]
    }
   ],
   "source": [
    "X_train,X_test,y_train,y_test=train_test_split(X,y, test_size=0.3, random_state=0)\n",
    "\n",
    "print('X_train',X_train.shape)\n",
    "print('y_train',y_train.shape)\n",
    "print('X_test',X_test.shape)\n",
    "print('y_test',y_test.shape)"
   ]
  },
  {
   "cell_type": "markdown",
   "id": "5cb7ef39",
   "metadata": {},
   "source": [
    "## Data Scaling using standard scaler and Apply classifier"
   ]
  },
  {
   "cell_type": "code",
   "execution_count": 9,
   "id": "1ffae2c1",
   "metadata": {},
   "outputs": [],
   "source": [
    "pipeline_lr=Pipeline([('scalar1',StandardScaler()),\n",
    "                     ('lr',LogisticRegression())])\n",
    "pipeline_dt=Pipeline([('scaler2',StandardScaler()),\n",
    "                     ('dt',DecisionTreeClassifier())])\n",
    "pipeline_rf=Pipeline([('scalar3',StandardScaler()),\n",
    "                     ('rfc',RandomForestClassifier())])\n",
    "pipeline_knn=Pipeline([('scalar4',StandardScaler()),\n",
    "                     ('knn',KNeighborsClassifier())])\n",
    "pipeline_xgbc=Pipeline([('scalar5',StandardScaler()),\n",
    "                     ('xgboost',XGBClassifier())])\n",
    "pipeline_ada=Pipeline([('scalar7',StandardScaler()),\n",
    "                     ('adaboost',AdaBoostClassifier())])\n",
    "pipeline_nb=Pipeline([('scalar9',StandardScaler()),\n",
    "                     ('nb',GaussianNB())])\n",
    "pipeline_gbc=Pipeline([('scalar12',StandardScaler()),\n",
    "                     ('GBC',GradientBoostingClassifier())])"
   ]
  },
  {
   "cell_type": "code",
   "execution_count": 10,
   "id": "b74eaf93",
   "metadata": {},
   "outputs": [],
   "source": [
    "pipelines=[pipeline_lr, pipeline_dt, pipeline_rf, pipeline_knn,\n",
    "           pipeline_xgbc, pipeline_ada, pipeline_nb, pipeline_gbc]"
   ]
  },
  {
   "cell_type": "code",
   "execution_count": 11,
   "id": "9d9a2ca9",
   "metadata": {},
   "outputs": [],
   "source": [
    "pipe_dict={0:'Logistic Regression',\n",
    "           1:'Decision Tree',\n",
    "           2:'Random Forest Classifier',\n",
    "           3:'K Neighbors Classifier',\n",
    "           4:'XGBoost Classifier',\n",
    "           5:'ADA Boost Classifier',\n",
    "           6:'Gaussian Naive Base',\n",
    "           7:'Gradient Boosting Classifier'}"
   ]
  },
  {
   "cell_type": "markdown",
   "id": "b8a88abf",
   "metadata": {},
   "source": [
    "## Balancing The Target Variable"
   ]
  },
  {
   "cell_type": "code",
   "execution_count": 12,
   "id": "200c3ca5",
   "metadata": {},
   "outputs": [
    {
     "data": {
      "image/png": "[encoded data removed]",
      "text/plain": [
       "<Figure size 288x288 with 1 Axes>"
      ]
     },
     "metadata": {},
     "output_type": "display_data"
    }
   ],
   "source": [
    "plt.figure(figsize=(4,4))\n",
    "plt.pie((df_final['Attrition'].value_counts().values[1],df_final['Attrition'].value_counts()[0]),labels=df_final['Attrition'].unique(), \n",
    "        textprops = {\"fontsize\":12}, shadow=True, startangle=330, radius=1.25, autopct='%2.2f%%', explode=[0,0.3],\n",
    "       colors=['grey','lightgrey'])\n",
    "plt.title('Attrition Distribution\\n\\n', fontdict={'fontsize': 17})\n",
    "plt.show()"
   ]
  },
  {
   "cell_type": "code",
   "execution_count": 13,
   "id": "394e0e42",
   "metadata": {
    "scrolled": false
   },
   "outputs": [
    {
     "data": {
      "image/png": "[encoded data removed]",
      "text/plain": [
       "<Figure size 576x432 with 1 Axes>"
      ]
     },
     "metadata": {
      "needs_background": "light"
     },
     "output_type": "display_data"
    }
   ],
   "source": [
    "plt.figure(figsize=(8,6))\n",
    "sns.countplot(df_final['Attrition'],palette=['grey','lightgrey'])\n",
    "plt.title('Target Variable', fontdict={'fontsize':15})\n",
    "plt.text(x=-0.05, y=df_final['Attrition'].value_counts()[0]+250, s=df_final['Attrition'].value_counts()[0],\n",
    "         fontdict={'size':'large'})\n",
    "plt.text(x=0.95, y=df_final['Attrition'].value_counts().values[1]+250, \n",
    "         s=df_final['Attrition'].value_counts().values[1],fontdict={'size':'large'})\n",
    "plt.show()"
   ]
  },
  {
   "cell_type": "markdown",
   "id": "39eeb58a",
   "metadata": {},
   "source": [
    "### As the dataset is highly imbalanced, we will use SMOTE to balance the Target Variable."
   ]
  },
  {
   "cell_type": "code",
   "execution_count": 14,
   "id": "8004f095",
   "metadata": {},
   "outputs": [
    {
     "name": "stdout",
     "output_type": "stream",
     "text": [
      "X_sm (23269, 53)\n",
      "y_sm (23269,)\n"
     ]
    }
   ],
   "source": [
    "smote = SMOTE(sampling_strategy=0.7, random_state=42)\n",
    "\n",
    "X_sm, y_sm = smote.fit_resample(X_train,y_train)\n",
    "\n",
    "print('X_sm',X_sm.shape)\n",
    "print('y_sm', y_sm.shape)"
   ]
  },
  {
   "cell_type": "markdown",
   "id": "05ddd766",
   "metadata": {},
   "source": [
    "## With SMOTE - Base Model"
   ]
  },
  {
   "cell_type": "markdown",
   "id": "9fa58953",
   "metadata": {},
   "source": [
    "## Logistic Regression"
   ]
  },
  {
   "cell_type": "code",
   "execution_count": 15,
   "id": "073e337a",
   "metadata": {
    "scrolled": false
   },
   "outputs": [
    {
     "data": {
      "image/png": "[encoded data removed]",
      "text/plain": [
       "<Figure size 1080x864 with 2 Axes>"
      ]
     },
     "metadata": {
      "needs_background": "light"
     },
     "output_type": "display_data"
    },
    {
     "name": "stdout",
     "output_type": "stream",
     "text": [
      "\n",
      "Accuracy Score-Train : 0.6862349048089733\n",
      "\n",
      "Classification Report-Train\n",
      "               precision    recall  f1-score   support\n",
      "\n",
      "           0       0.70      0.81      0.75     13688\n",
      "           1       0.65      0.51      0.57      9581\n",
      "\n",
      "    accuracy                           0.69     23269\n",
      "   macro avg       0.68      0.66      0.66     23269\n",
      "weighted avg       0.68      0.69      0.68     23269\n",
      "\n",
      "\n",
      "AUC Score-Train : 0.7297221738109061\n",
      "\n",
      "\n",
      "\n"
     ]
    },
    {
     "data": {
      "image/png": "[encoded data removed]",
      "text/plain": [
       "<Figure size 1080x864 with 2 Axes>"
      ]
     },
     "metadata": {
      "needs_background": "light"
     },
     "output_type": "display_data"
    },
    {
     "name": "stdout",
     "output_type": "stream",
     "text": [
      "\n",
      "Accuracy Score-Test : 0.7479873490511788\n",
      "\n",
      "Classification Report-Test\n",
      "               precision    recall  f1-score   support\n",
      "\n",
      "           0       0.88      0.81      0.84      5837\n",
      "           1       0.31      0.45      0.36      1119\n",
      "\n",
      "    accuracy                           0.75      6956\n",
      "   macro avg       0.60      0.63      0.60      6956\n",
      "weighted avg       0.79      0.75      0.77      6956\n",
      "\n",
      "\n",
      "AUC Score-Test : 0.7011540658548904\n",
      "\n",
      "\n",
      "\n",
      "Plot : AUC-ROC Curve\n"
     ]
    },
    {
     "data": {
      "image/png": "[encoded data removed]",
      "text/plain": [
       "<Figure size 1080x864 with 2 Axes>"
      ]
     },
     "metadata": {
      "needs_background": "light"
     },
     "output_type": "display_data"
    }
   ],
   "source": [
    "lr=LogisticRegression()\n",
    "lr.fit(X_sm,y_sm)\n",
    "y_train_pred=lr.predict(X_sm)\n",
    "y_train_prob=lr.predict_proba(X_sm)[:,1]\n",
    "\n",
    "y_test_pred=lr.predict(X_test)\n",
    "y_test_prob=lr.predict_proba(X_test)[:,1]\n",
    "\n",
    "\n",
    "ConfusionMatrixDisplay.from_predictions(y_sm,y_train_pred,cmap='Greys')\n",
    "plt.title('Confusion Matrix-Train',fontdict={'fontsize':15})\n",
    "plt.show()\n",
    "print('\\nAccuracy Score-Train :',accuracy_score(y_sm,y_train_pred))\n",
    "print('\\nClassification Report-Train\\n',classification_report(y_sm,y_train_pred))\n",
    "print('\\nAUC Score-Train :',roc_auc_score(y_sm,y_train_prob))\n",
    "print('\\n'*2)\n",
    "ConfusionMatrixDisplay.from_predictions(y_test,y_test_pred,cmap='Greys')\n",
    "plt.title('Confusion Matrix-Test',fontdict={'fontsize':15})\n",
    "plt.show()\n",
    "print('\\nAccuracy Score-Test :',accuracy_score(y_test,y_test_pred))\n",
    "print('\\nClassification Report-Test\\n',classification_report(y_test,y_test_pred))\n",
    "print('\\nAUC Score-Test :',roc_auc_score(y_test,y_test_prob))\n",
    "\n",
    "print('\\n\\n\\nPlot : AUC-ROC Curve')\n",
    "fpr,tpr,threshold= roc_curve(y_test,y_test_prob)\n",
    "threshold[0]=threshold[0]-1\n",
    "\n",
    "fig,ax1 = plt.subplots()\n",
    "ax1.plot(fpr,tpr)\n",
    "ax1.plot(fpr,fpr)\n",
    "ax1.set_xlabel('FPR')\n",
    "ax1.set_ylabel('TPR')\n",
    "ax2=ax1.twinx()\n",
    "ax2.plot(fpr,threshold,'-g')\n",
    "ax2.set_ylabel('TRESHOLD')\n",
    "plt.show()\n",
    "plt.show()"
   ]
  },
  {
   "cell_type": "markdown",
   "id": "e94df85c",
   "metadata": {},
   "source": [
    "## Without SMOTE-Base Model"
   ]
  },
  {
   "cell_type": "code",
   "execution_count": 16,
   "id": "bc671789",
   "metadata": {
    "scrolled": false
   },
   "outputs": [
    {
     "data": {
      "image/png": "[encoded data removed]",
      "text/plain": [
       "<Figure size 1080x864 with 2 Axes>"
      ]
     },
     "metadata": {
      "needs_background": "light"
     },
     "output_type": "display_data"
    },
    {
     "name": "stdout",
     "output_type": "stream",
     "text": [
      "Accuracy Score-Train : 0.8489217498459642\n",
      "\n",
      "Classification Report-Train\n",
      "               precision    recall  f1-score   support\n",
      "\n",
      "           0       0.85      0.99      0.92     13688\n",
      "           1       0.67      0.07      0.13      2542\n",
      "\n",
      "    accuracy                           0.85     16230\n",
      "   macro avg       0.76      0.53      0.52     16230\n",
      "weighted avg       0.82      0.85      0.79     16230\n",
      "\n",
      "\n",
      "AUC Score-Train : 0.7251850673730997\n",
      "\n",
      "\n",
      "\n"
     ]
    },
    {
     "data": {
      "image/png": "[encoded data removed]",
      "text/plain": [
       "<Figure size 1080x864 with 2 Axes>"
      ]
     },
     "metadata": {
      "needs_background": "light"
     },
     "output_type": "display_data"
    },
    {
     "name": "stdout",
     "output_type": "stream",
     "text": [
      "Accuracy Score-Test : 0.8445945945945946\n",
      "\n",
      "Classification Report-Test\n",
      "               precision    recall  f1-score   support\n",
      "\n",
      "           0       0.85      0.99      0.91      5837\n",
      "           1       0.65      0.07      0.13      1119\n",
      "\n",
      "    accuracy                           0.84      6956\n",
      "   macro avg       0.75      0.53      0.52      6956\n",
      "weighted avg       0.82      0.84      0.79      6956\n",
      "\n",
      "\n",
      "AUC Score-Test : 0.7224088788005028\n",
      "\n",
      "\n",
      "\n",
      "\n",
      "Plot : AUC-ROC Curve\n"
     ]
    },
    {
     "data": {
      "image/png": "[encoded data removed]",
      "text/plain": [
       "<Figure size 1080x864 with 2 Axes>"
      ]
     },
     "metadata": {
      "needs_background": "light"
     },
     "output_type": "display_data"
    }
   ],
   "source": [
    "lr=LogisticRegression()\n",
    "lr.fit(X_train,y_train)\n",
    "y_train_pred=lr.predict(X_train)\n",
    "y_train_prob=lr.predict_proba(X_train)[:,1]\n",
    "\n",
    "y_test_pred=lr.predict(X_test)\n",
    "y_test_prob=lr.predict_proba(X_test)[:,1]\n",
    "\n",
    "\n",
    "ConfusionMatrixDisplay.from_predictions(y_train,y_train_pred,cmap='Greys')\n",
    "plt.title('Confusion Matrix-Train',fontdict={'fontsize':15})\n",
    "plt.show()\n",
    "print('Accuracy Score-Train :',accuracy_score(y_train,y_train_pred))\n",
    "print('\\nClassification Report-Train\\n',classification_report(y_train,y_train_pred))\n",
    "print('\\nAUC Score-Train :',roc_auc_score(y_train,y_train_prob))\n",
    "print('\\n'*2)\n",
    "\n",
    "\n",
    "ConfusionMatrixDisplay.from_predictions(y_test,y_test_pred,cmap='Greys')\n",
    "plt.title('Confusion Matrix-Test',fontdict={'fontsize':15})\n",
    "plt.show()\n",
    "print('Accuracy Score-Test :',accuracy_score(y_test,y_test_pred))\n",
    "print('\\nClassification Report-Test\\n',classification_report(y_test,y_test_pred))\n",
    "print('\\nAUC Score-Test :',roc_auc_score(y_test,y_test_prob))\n",
    "print('\\n'*3)\n",
    "print('Plot : AUC-ROC Curve')\n",
    "fpr,tpr,threshold= roc_curve(y_test,y_test_prob)\n",
    "threshold[0]=threshold[0]-1\n",
    "fig,ax1 = plt.subplots()\n",
    "ax1.plot(fpr,tpr)\n",
    "ax1.plot(fpr,fpr)\n",
    "ax1.set_xlabel('FPR')\n",
    "ax1.set_ylabel('TPR')\n",
    "ax2=ax1.twinx()\n",
    "ax2.plot(fpr,threshold,'-g')\n",
    "ax2.set_ylabel('TRESHOLD')\n",
    "plt.show()\n",
    "plt.show()"
   ]
  },
  {
   "cell_type": "markdown",
   "id": "922ffd96",
   "metadata": {},
   "source": [
    "## Comparing Models ROC-AUC Curve"
   ]
  },
  {
   "cell_type": "code",
   "execution_count": 17,
   "id": "61f4f508",
   "metadata": {},
   "outputs": [],
   "source": [
    "# logistic regression\n",
    "model1 = LogisticRegression()\n",
    "\n",
    "# knn\n",
    "model2 = KNeighborsClassifier()\n",
    "\n",
    "# Random Forest Classifier\n",
    "model3 = RandomForestClassifier()\n",
    "\n",
    "# XGBClassifier\n",
    "model4=XGBClassifier()\n",
    "\n",
    "# fit model\n",
    "model1.fit(X_train, y_train)\n",
    "model2.fit(X_train, y_train)\n",
    "model3.fit(X_train, y_train)\n",
    "model4.fit(X_train, y_train)\n",
    "\n",
    "# predicted values\n",
    "y_pred1 = model1.predict(X_test)\n",
    "y_pred2 = model2.predict(X_test)\n",
    "y_pred3 = model3.predict(X_test)\n",
    "y_pred4 = model4.predict(X_test)\n",
    "\n",
    "# predict probabilities\n",
    "pred_prob1 = model1.predict_proba(X_test)\n",
    "pred_prob2 = model2.predict_proba(X_test)\n",
    "pred_prob3 = model3.predict_proba(X_test)\n",
    "pred_prob4 = model4.predict_proba(X_test)"
   ]
  },
  {
   "cell_type": "code",
   "execution_count": 18,
   "id": "706d0dae",
   "metadata": {},
   "outputs": [],
   "source": [
    "# roc curve for models\n",
    "fpr1, tpr1, thresh1 = roc_curve(y_test, pred_prob1[:,1], pos_label=1)\n",
    "fpr2, tpr2, thresh2 = roc_curve(y_test, pred_prob2[:,1], pos_label=1)\n",
    "fpr3, tpr3, thresh3 = roc_curve(y_test, pred_prob3[:,1], pos_label=1)\n",
    "fpr4, tpr4, thresh4 = roc_curve(y_test, pred_prob4[:,1], pos_label=1)\n",
    "\n",
    "# roc curve for tpr = fpr \n",
    "random_probs = [0 for i in range(len(y_test))]\n",
    "p_fpr, p_tpr, _ = roc_curve(y_test, random_probs, pos_label=1)"
   ]
  },
  {
   "cell_type": "code",
   "execution_count": 19,
   "id": "67e65e07",
   "metadata": {},
   "outputs": [
    {
     "data": {
      "text/html": [
       "<div>\n",
       "<style scoped>\n",
       "    .dataframe tbody tr th:only-of-type {\n",
       "        vertical-align: middle;\n",
       "    }\n",
       "\n",
       "    .dataframe tbody tr th {\n",
       "        vertical-align: top;\n",
       "    }\n",
       "\n",
       "    .dataframe thead th {\n",
       "        text-align: right;\n",
       "    }\n",
       "</style>\n",
       "<table border=\"1\" class=\"dataframe\">\n",
       "  <thead>\n",
       "    <tr style=\"text-align: right;\">\n",
       "      <th></th>\n",
       "      <th>Classifier</th>\n",
       "      <th>AUC_Score</th>\n",
       "      <th>Accuracy</th>\n",
       "      <th>f1_score</th>\n",
       "      <th>Precision</th>\n",
       "      <th>Recall</th>\n",
       "    </tr>\n",
       "  </thead>\n",
       "  <tbody>\n",
       "    <tr>\n",
       "      <th>0</th>\n",
       "      <td>LogisticRegression</td>\n",
       "      <td>0.722409</td>\n",
       "      <td>0.844595</td>\n",
       "      <td>0.130330</td>\n",
       "      <td>0.653226</td>\n",
       "      <td>0.072386</td>\n",
       "    </tr>\n",
       "    <tr>\n",
       "      <th>1</th>\n",
       "      <td>KNeighborsClassifier</td>\n",
       "      <td>0.965372</td>\n",
       "      <td>0.954284</td>\n",
       "      <td>0.849574</td>\n",
       "      <td>0.902513</td>\n",
       "      <td>0.802502</td>\n",
       "    </tr>\n",
       "    <tr>\n",
       "      <th>2</th>\n",
       "      <td>RandomForestClassifier</td>\n",
       "      <td>0.999890</td>\n",
       "      <td>0.997269</td>\n",
       "      <td>0.991445</td>\n",
       "      <td>0.999093</td>\n",
       "      <td>0.983914</td>\n",
       "    </tr>\n",
       "    <tr>\n",
       "      <th>3</th>\n",
       "      <td>XGBClassifier</td>\n",
       "      <td>0.999690</td>\n",
       "      <td>0.998706</td>\n",
       "      <td>0.995966</td>\n",
       "      <td>0.999101</td>\n",
       "      <td>0.992851</td>\n",
       "    </tr>\n",
       "  </tbody>\n",
       "</table>\n",
       "</div>"
      ],
      "text/plain": [
       "               Classifier  AUC_Score  Accuracy  f1_score  Precision   Recall\n",
       "0      LogisticRegression   0.722409  0.844595  0.130330   0.653226 0.072386\n",
       "1    KNeighborsClassifier   0.965372  0.954284  0.849574   0.902513 0.802502\n",
       "2  RandomForestClassifier   0.999890  0.997269  0.991445   0.999093 0.983914\n",
       "3           XGBClassifier   0.999690  0.998706  0.995966   0.999101 0.992851"
      ]
     },
     "execution_count": 19,
     "metadata": {},
     "output_type": "execute_result"
    }
   ],
   "source": [
    "# auc scores\n",
    "auc_score1 = roc_auc_score(y_test, pred_prob1[:,1])\n",
    "auc_score2 = roc_auc_score(y_test, pred_prob2[:,1])\n",
    "auc_score3 = roc_auc_score(y_test, pred_prob3[:,1])\n",
    "auc_score4 = roc_auc_score(y_test, pred_prob4[:,1])\n",
    "\n",
    "# accuracy score\n",
    "accuracy1 = accuracy_score(y_test,y_pred1)\n",
    "accuracy2 = accuracy_score(y_test,y_pred2)\n",
    "accuracy3 = accuracy_score(y_test,y_pred3)\n",
    "accuracy4 = accuracy_score(y_test,y_pred4)\n",
    "\n",
    "# f1_score\n",
    "f1_score1 = f1_score(y_test,y_pred1)\n",
    "f1_score2 = f1_score(y_test,y_pred2)\n",
    "f1_score3 = f1_score(y_test,y_pred3)\n",
    "f1_score4 = f1_score(y_test,y_pred4)\n",
    "\n",
    "# precision score\n",
    "precision1 = precision_score(y_test,y_pred1)\n",
    "precision2 = precision_score(y_test,y_pred2)\n",
    "precision3 = precision_score(y_test,y_pred3)\n",
    "precision4 = precision_score(y_test,y_pred4)\n",
    "\n",
    "# recall score\n",
    "recall1 = recall_score(y_test,y_pred1)\n",
    "recall2 = recall_score(y_test,y_pred2)\n",
    "recall3 = recall_score(y_test,y_pred3)\n",
    "recall4 = recall_score(y_test,y_pred4)\n",
    "\n",
    "pd.DataFrame({'Classifier':['LogisticRegression','KNeighborsClassifier','RandomForestClassifier','XGBClassifier'],\n",
    "              'AUC_Score':[auc_score1,auc_score2,auc_score3,auc_score4],\n",
    "              'Accuracy' :[accuracy1,accuracy2,accuracy3,accuracy4],\n",
    "              'f1_score': [f1_score1,f1_score2,f1_score3,f1_score4],\n",
    "              'Precision': [precision1,precision2,precision3,precision4],\n",
    "              'Recall' :[recall1,recall2,recall3,recall4]})"
   ]
  },
  {
   "cell_type": "code",
   "execution_count": 20,
   "id": "5b4354c8",
   "metadata": {},
   "outputs": [
    {
     "data": {
      "image/png": "[encoded data removed]",
      "text/plain": [
       "<Figure size 576x396 with 1 Axes>"
      ]
     },
     "metadata": {},
     "output_type": "display_data"
    }
   ],
   "source": [
    "# matplotlib\n",
    "import matplotlib.pyplot as plt\n",
    "plt.style.use('seaborn')\n",
    "\n",
    "# plot roc curves\n",
    "plt.plot(fpr1, tpr1, linestyle='--',color='orange', label='Logistic Regression')\n",
    "plt.plot(fpr2, tpr2, linestyle='--',color='green', label='KNN')\n",
    "plt.plot(fpr3, tpr3, linestyle='--',color='red', label='Random Forest')\n",
    "plt.plot(fpr4, tpr4, linestyle='--',color='black', label='XGBC')\n",
    "plt.plot(p_fpr, p_tpr, linestyle='--', color='blue')\n",
    "# title\n",
    "plt.title('ROC curve')\n",
    "# x label\n",
    "plt.xlabel('False Positive Rate')\n",
    "# y label\n",
    "plt.ylabel('True Positive rate')\n",
    "\n",
    "plt.legend(loc='best')\n",
    "plt.savefig('ROC',dpi=300)\n",
    "plt.show();"
   ]
  },
  {
   "cell_type": "markdown",
   "id": "e2c2b710",
   "metadata": {},
   "source": [
    "## Multiple Base Model Performance"
   ]
  },
  {
   "cell_type": "code",
   "execution_count": null,
   "id": "2fcc7bd8",
   "metadata": {
    "scrolled": false
   },
   "outputs": [
    {
     "name": "stdout",
     "output_type": "stream",
     "text": [
      "\n",
      "Classification Report : LogisticRegression() \n",
      "               precision    recall  f1-score   support\n",
      "\n",
      "           0       0.88      0.88      0.88      5837\n",
      "           1       0.39      0.39      0.39      1119\n",
      "\n",
      "    accuracy                           0.80      6956\n",
      "   macro avg       0.64      0.64      0.64      6956\n",
      "weighted avg       0.80      0.80      0.80      6956\n",
      "\n",
      "f1-score : 0.3907225691347012\n",
      "\n",
      "\n",
      " ------------------------------------------------------------------------------------------------\n",
      "\n",
      "Classification Report : DecisionTreeClassifier() \n",
      "               precision    recall  f1-score   support\n",
      "\n",
      "           0       1.00      0.99      1.00      5837\n",
      "           1       0.97      0.98      0.98      1119\n",
      "\n",
      "    accuracy                           0.99      6956\n",
      "   macro avg       0.99      0.99      0.99      6956\n",
      "weighted avg       0.99      0.99      0.99      6956\n",
      "\n",
      "f1-score : 0.9786666666666666\n",
      "\n",
      "\n",
      " ------------------------------------------------------------------------------------------------\n",
      "\n",
      "Classification Report : RandomForestClassifier() \n",
      "               precision    recall  f1-score   support\n",
      "\n",
      "           0       1.00      1.00      1.00      5837\n",
      "           1       1.00      0.98      0.99      1119\n",
      "\n",
      "    accuracy                           1.00      6956\n",
      "   macro avg       1.00      0.99      0.99      6956\n",
      "weighted avg       1.00      1.00      1.00      6956\n",
      "\n",
      "f1-score : 0.9873417721518988\n",
      "\n",
      "\n",
      " ------------------------------------------------------------------------------------------------\n",
      "\n",
      "Classification Report : KNeighborsClassifier() \n",
      "               precision    recall  f1-score   support\n",
      "\n",
      "           0       0.99      0.97      0.98      5837\n",
      "           1       0.87      0.95      0.91      1119\n",
      "\n",
      "    accuracy                           0.97      6956\n",
      "   macro avg       0.93      0.96      0.94      6956\n",
      "weighted avg       0.97      0.97      0.97      6956\n",
      "\n",
      "f1-score : 0.9063032367972743\n",
      "\n",
      "\n",
      " ------------------------------------------------------------------------------------------------\n",
      "\n",
      "Classification Report : XGBClassifier(base_score=0.5, booster='gbtree', callbacks=None,\n",
      "              colsample_bylevel=1, colsample_bynode=1, colsample_bytree=1,\n",
      "              early_stopping_rounds=None, enable_categorical=False,\n",
      "              eval_metric=None, feature_types=None, gamma=0, gpu_id=-1,\n",
      "              grow_policy='depthwise', importance_type=None,\n",
      "              interaction_constraints='', learning_rate=0.300000012,\n",
      "              max_bin=256, max_cat_threshold=64, max_cat_to_onehot=4,\n",
      "              max_delta_step=0, max_depth=6, max_leaves=0, min_child_weight=1,\n",
      "              missing=nan, monotone_constraints='()', n_estimators=100,\n",
      "              n_jobs=0, num_parallel_tree=1, predictor='auto', random_state=0, ...) \n",
      "               precision    recall  f1-score   support\n",
      "\n",
      "           0       1.00      1.00      1.00      5837\n",
      "           1       1.00      0.99      0.99      1119\n",
      "\n",
      "    accuracy                           1.00      6956\n",
      "   macro avg       1.00      0.99      0.99      6956\n",
      "weighted avg       1.00      1.00      1.00      6956\n",
      "\n",
      "f1-score : 0.9914606741573034\n",
      "\n",
      "\n",
      " ------------------------------------------------------------------------------------------------\n",
      "\n",
      "Classification Report : AdaBoostClassifier() \n",
      "               precision    recall  f1-score   support\n",
      "\n",
      "           0       0.90      0.88      0.89      5837\n",
      "           1       0.43      0.48      0.45      1119\n",
      "\n",
      "    accuracy                           0.81      6956\n",
      "   macro avg       0.66      0.68      0.67      6956\n",
      "weighted avg       0.82      0.81      0.82      6956\n",
      "\n",
      "f1-score : 0.4515856236786469\n",
      "\n",
      "\n",
      " ------------------------------------------------------------------------------------------------\n",
      "\n",
      "Classification Report : GaussianNB() \n",
      "               precision    recall  f1-score   support\n",
      "\n",
      "           0       0.96      0.04      0.08      5837\n",
      "           1       0.17      0.99      0.28      1119\n",
      "\n",
      "    accuracy                           0.20      6956\n",
      "   macro avg       0.56      0.52      0.18      6956\n",
      "weighted avg       0.83      0.20      0.12      6956\n",
      "\n",
      "f1-score : 0.28403124599820717\n",
      "\n",
      "\n",
      " ------------------------------------------------------------------------------------------------\n"
     ]
    }
   ],
   "source": [
    "for i in pipelines:\n",
    "    i.fit(X_sm,y_sm)\n",
    "    y_pred=i.predict(X_test)\n",
    "    print('\\nClassification Report :', i[1] ,'\\n',(classification_report(y_test,y_pred)))\n",
    "    print('f1-score :',(f1_score(y_test,y_pred)))\n",
    "    print('\\n'*2,'------------------------------------------------------------------------------------------------')"
   ]
  },
  {
   "cell_type": "markdown",
   "id": "383e9564",
   "metadata": {},
   "source": [
    "### Base model with best f1-score : XGBClassifier - 99.24%"
   ]
  },
  {
   "cell_type": "markdown",
   "id": "44c32b27",
   "metadata": {},
   "source": [
    "## KNN"
   ]
  },
  {
   "cell_type": "code",
   "execution_count": null,
   "id": "ba2bbaa9",
   "metadata": {
    "scrolled": false
   },
   "outputs": [],
   "source": [
    "knn=KNeighborsClassifier(n_neighbors=9)\n",
    "knn.fit(X_train,y_train)\n",
    "y_train_pred=knn.predict(X_train)\n",
    "y_train_prob=knn.predict_proba(X_train)[:,1]\n",
    "\n",
    "y_test_pred=knn.predict(X_test)\n",
    "y_test_prob=knn.predict_proba(X_test)[:,1]\n",
    "\n",
    "\n",
    "ConfusionMatrixDisplay.from_predictions(y_train,y_train_pred,cmap='Greys')\n",
    "plt.title('Confusion Matrix-Train',fontdict={'fontsize':15})\n",
    "plt.show()\n",
    "print('\\nClassification Report-Train :\\n',classification_report(y_train,y_train_pred))\n",
    "print('\\nAccuracy Score-Train :',accuracy_score(y_train,y_train_pred))\n",
    "print('\\nAUC Score-Train :',roc_auc_score(y_train,y_train_prob))\n",
    "print('\\nf1_Score-Train :',f1_score(y_train,y_train_pred))\n",
    "\n",
    "print('\\n'*2)\n",
    "\n",
    "ConfusionMatrixDisplay.from_predictions(y_test,y_test_pred,cmap='Greys')\n",
    "plt.title('Confusion Matrix-Test',fontdict={'fontsize':15})\n",
    "plt.show()\n",
    "print('\\nClassification Report-Test :\\n',classification_report(y_test,y_test_pred))\n",
    "print('\\nAccuracy Score-Test :',accuracy_score(y_test,y_test_pred))\n",
    "print('\\nAUC Score-Test :',roc_auc_score(y_test,y_test_prob))\n",
    "print('\\nf1_Score-Test :',f1_score(y_test,y_test_pred))\n",
    "\n",
    "print('\\n'*3)\n",
    "\n",
    "print('Plot : AUC-ROC Curve')\n",
    "fpr,tpr,thresholds= roc_curve(y_test,y_test_prob)\n",
    "fig,ax1 = plt.subplots()\n",
    "ax1.plot(fpr,tpr)\n",
    "ax1.plot(fpr,fpr)\n",
    "ax1.set_xlabel('FPR')\n",
    "ax1.set_ylabel('TRP')\n",
    "ax2=ax1.twinx()\n",
    "ax2.plot(fpr,thresholds,'-g')\n",
    "ax2.set_ylabel('TRESHOLDS')\n",
    "plt.show()\n",
    "plt.show()"
   ]
  },
  {
   "cell_type": "markdown",
   "id": "bd2d697d",
   "metadata": {},
   "source": [
    "## Decision Tree Classifier"
   ]
  },
  {
   "cell_type": "code",
   "execution_count": null,
   "id": "1177e9ac",
   "metadata": {
    "scrolled": false
   },
   "outputs": [],
   "source": [
    "dt=DecisionTreeClassifier(criterion = 'gini', max_depth = 4, max_features= 'log2',\n",
    "                           min_samples_split = 2, max_leaf_nodes = 9, random_state = 10)\n",
    "dt.fit(X_train,y_train)\n",
    "y_train_pred=dt.predict(X_train)\n",
    "y_train_prob=dt.predict_proba(X_train)[:,1]\n",
    "\n",
    "y_test_pred=dt.predict(X_test)\n",
    "y_test_prob=dt.predict_proba(X_test)[:,1]\n",
    "\n",
    "\n",
    "ConfusionMatrixDisplay.from_predictions(y_train,y_train_pred,cmap='Greys')\n",
    "plt.title('Confusion Matrix-Train',fontdict={'fontsize':15})\n",
    "plt.show()\n",
    "print('\\nClassification Report-Train :\\n',classification_report(y_train,y_train_pred))\n",
    "print('\\nAccuracy Score-Train :',accuracy_score(y_train,y_train_pred))\n",
    "print('\\nAUC Score-Train :',roc_auc_score(y_train,y_train_prob))\n",
    "\n",
    "print('\\n'*2)\n",
    "\n",
    "ConfusionMatrixDisplay.from_predictions(y_test,y_test_pred,cmap='Greys')\n",
    "plt.title('Confusion Matrix-Test',fontdict={'fontsize':15})\n",
    "plt.show()\n",
    "print('\\nClassification Report-Test :\\n',classification_report(y_test,y_test_pred))\n",
    "print('\\nAccuracy Score-Test :',accuracy_score(y_test,y_test_pred))\n",
    "print('\\nAUC Score-Test :',roc_auc_score(y_test,y_test_prob))\n",
    "\n",
    "\n",
    "print('\\n\\n\\nPlot : AUC-ROC Curve')\n",
    "fpr,tpr,thresholds= roc_curve(y_test,y_test_prob)\n",
    "fig,ax1 = plt.subplots()\n",
    "ax1.plot(fpr,tpr)\n",
    "ax1.plot(fpr,fpr)\n",
    "ax1.set_xlabel('FPR')\n",
    "ax1.set_ylabel('TRP')\n",
    "ax2=ax1.twinx()\n",
    "ax2.plot(fpr,thresholds,'-g')\n",
    "ax2.set_ylabel('TRESHOLDS')\n",
    "plt.show()\n",
    "plt.show()"
   ]
  },
  {
   "cell_type": "markdown",
   "id": "eaa9a7b6",
   "metadata": {},
   "source": [
    "## Random Forest Classifier"
   ]
  },
  {
   "cell_type": "code",
   "execution_count": null,
   "id": "85fae133",
   "metadata": {
    "scrolled": false
   },
   "outputs": [],
   "source": [
    "rf=RandomForestClassifier(max_depth=15, min_samples_leaf=10, min_samples_split=20,\n",
    "                       n_estimators=5)\n",
    "rf.fit(X_train,y_train)\n",
    "y_train_pred=rf.predict(X_train)\n",
    "y_train_prob=rf.predict_proba(X_train)[:,1]\n",
    "\n",
    "y_test_pred=rf.predict(X_test)\n",
    "y_test_prob=rf.predict_proba(X_test)[:,1]\n",
    "\n",
    "ConfusionMatrixDisplay.from_predictions(y_train,y_train_pred,cmap='Greys')\n",
    "plt.title('Confusion Matrix-Train',fontdict={'fontsize':15})\n",
    "plt.show()\n",
    "print('\\nClassification Report-Train :\\n',classification_report(y_train,y_train_pred))\n",
    "print('\\nAccuracy Score-Train :',accuracy_score(y_train,y_train_pred))\n",
    "print('\\nAUC Score-Train :',roc_auc_score(y_train,y_train_prob))\n",
    "\n",
    "print('\\n'*2)\n",
    "\n",
    "ConfusionMatrixDisplay.from_predictions(y_test,y_test_pred,cmap='Greys')\n",
    "plt.title('Confusion Matrix-Test',fontdict={'fontsize':15})\n",
    "plt.show()\n",
    "print('\\nClassification Report-Test :\\n',classification_report(y_test,y_test_pred))\n",
    "print('\\nAccuracy Score-Test :',accuracy_score(y_test,y_test_pred))\n",
    "print('\\nAUC Score-Test :',roc_auc_score(y_test,y_test_prob))\n",
    "\n",
    "print('\\n\\n\\nPlot : AUC-ROC Curve')\n",
    "fpr,tpr,thresholds= roc_curve(y_test,y_test_prob)\n",
    "fig,ax1 = plt.subplots()\n",
    "ax1.plot(fpr,tpr)\n",
    "ax1.plot(fpr,fpr)\n",
    "ax1.set_xlabel('False Positive Rate')\n",
    "ax1.set_ylabel('True Positive Rate')\n",
    "ax2=ax1.twinx()\n",
    "ax2.plot(fpr,thresholds,'-g')\n",
    "ax2.set_ylabel('THRESHOLD')\n",
    "plt.show()\n",
    "plt.show()"
   ]
  },
  {
   "cell_type": "markdown",
   "id": "1109669b",
   "metadata": {},
   "source": [
    "## XGBClassifier"
   ]
  },
  {
   "cell_type": "code",
   "execution_count": null,
   "id": "d5ce6213",
   "metadata": {
    "scrolled": false
   },
   "outputs": [],
   "source": [
    "xgbc=XGBClassifier()\n",
    "xgbc.fit(X_train,y_train)\n",
    "y_train_pred=xgbc.predict(X_train)\n",
    "y_train_prob=xgbc.predict_proba(X_train)[:,1]\n",
    "\n",
    "y_test_pred=xgbc.predict(X_test)\n",
    "y_test_prob=xgbc.predict_proba(X_test)[:,1]\n",
    "\n",
    "ConfusionMatrixDisplay.from_predictions(y_train,y_train_pred,cmap='Greys')\n",
    "plt.title('Confusion Matrix-Train',fontdict={'fontsize':15})\n",
    "plt.show()\n",
    "print('\\nClassification Report-Train :\\n',classification_report(y_train,y_train_pred))\n",
    "print('\\nAccuracy Score-Train :',accuracy_score(y_train,y_train_pred))\n",
    "print('\\nAUC Score-Train :',roc_auc_score(y_train,y_train_prob))\n",
    "\n",
    "print('\\n'*2)\n",
    "\n",
    "ConfusionMatrixDisplay.from_predictions(y_test,y_test_pred,cmap='Greys')\n",
    "plt.title('Confusion Matrix-Test',fontdict={'fontsize':15})\n",
    "plt.show()\n",
    "print('\\nClassification Report-Test :\\n',classification_report(y_test,y_test_pred))\n",
    "print('\\nAccuracy Score-Test :',accuracy_score(y_test,y_test_pred))\n",
    "print('\\nAUC Score-Test :',roc_auc_score(y_test,y_test_prob))\n",
    "\n",
    "\n",
    "print('\\n\\n\\nPlot : AUC-ROC Curve')\n",
    "fpr,tpr,thresholds= roc_curve(y_test,y_test_prob)\n",
    "fig,ax1 = plt.subplots()\n",
    "ax1.plot(fpr,tpr)\n",
    "ax1.plot(fpr,fpr)\n",
    "ax1.set_xlabel('False Positive Rate')\n",
    "ax1.set_ylabel('True Positive Rate')\n",
    "ax2=ax1.twinx()\n",
    "ax2.plot(fpr,thresholds,'-g')\n",
    "ax2.set_ylabel('THRESHOLD')\n",
    "plt.show()\n",
    "plt.show()"
   ]
  },
  {
   "cell_type": "markdown",
   "id": "44521492",
   "metadata": {},
   "source": [
    "## Feature Importance using different classifiers"
   ]
  },
  {
   "cell_type": "code",
   "execution_count": null,
   "id": "2e3957f4",
   "metadata": {},
   "outputs": [],
   "source": [
    "pipeline=[DecisionTreeClassifier(),RandomForestClassifier(),XGBClassifier()]"
   ]
  },
  {
   "cell_type": "code",
   "execution_count": null,
   "id": "6dacbe8c",
   "metadata": {
    "scrolled": false
   },
   "outputs": [],
   "source": [
    "for i in pipeline:\n",
    "    i.fit(X,y)\n",
    "    i.feature_importances_\n",
    "    print(i)\n",
    "    imp_features = pd.Series(i.feature_importances_,index=X.columns)\n",
    "    plt.figure(figsize =(10,10))\n",
    "    imp_features.nlargest(10).sort_values(ascending=True).plot(kind='barh')\n",
    "\n",
    "    plt.show()"
   ]
  },
  {
   "cell_type": "code",
   "execution_count": null,
   "id": "34f68c1d",
   "metadata": {},
   "outputs": [],
   "source": [
    "a=[]\n",
    "for i in pipeline:\n",
    "    i.fit(X,y)\n",
    "    i.feature_importances_\n",
    "    imp_features = pd.Series(i.feature_importances_,index=X.columns)\n",
    "    x = pd.DataFrame(imp_features.nlargest(10).sort_values(ascending=False))\n",
    "    a.append(x.index.values)\n",
    "    b=pd.DataFrame(a)\n",
    "c=b.T\n",
    "c.rename(columns={0:'DecisionTreeClassifier',1:'RandomForestClassifier',2:'XGBClassifier'}, inplace=True)\n",
    "c"
   ]
  },
  {
   "cell_type": "code",
   "execution_count": null,
   "id": "d4eb6096",
   "metadata": {},
   "outputs": [],
   "source": [
    "d=pd.DataFrame()\n",
    "for i in c.columns:\n",
    "    d=pd.concat([d,c[i]],ignore_index=True)\n",
    "d"
   ]
  },
  {
   "cell_type": "code",
   "execution_count": null,
   "id": "75660534",
   "metadata": {},
   "outputs": [],
   "source": [
    "d[0].unique()"
   ]
  },
  {
   "cell_type": "code",
   "execution_count": null,
   "id": "d1c2c38c",
   "metadata": {},
   "outputs": [],
   "source": [
    "df_final.head()"
   ]
  },
  {
   "cell_type": "code",
   "execution_count": null,
   "id": "5d759884",
   "metadata": {},
   "outputs": [],
   "source": [
    "X_new = df_final[['DailyRate', 'Age', 'DistanceFromHome', 'MonthlyIncome',\n",
    "       'MonthlyRate', 'Education', 'HourlyRate', 'TrainingTimesLastYear',\n",
    "       'PercentSalaryHike', 'YearsInCurrentRole', 'TotalWorkingYears',\n",
    "       'YearsAtCompany', 'EducationField_Technical Degree',\n",
    "       'JobRole_Sales Executive', 'JobLevel',\n",
    "       'BusinessTravel_Travel_Frequently', 'Department_Sales', 'OverTime',\n",
    "       'EducationField_Other', 'StockOptionLevel',\n",
    "       'Employee_Source_Company Website', 'JobRole_Laboratory Technician']]\n",
    "X_new.head()"
   ]
  },
  {
   "cell_type": "code",
   "execution_count": null,
   "id": "6ce20d24",
   "metadata": {},
   "outputs": [],
   "source": [
    "y_new = df_final[['Attrition']]\n",
    "y_new.head()"
   ]
  },
  {
   "cell_type": "markdown",
   "id": "be51cc56",
   "metadata": {},
   "source": [
    "## Model with Optimal Features "
   ]
  },
  {
   "cell_type": "code",
   "execution_count": null,
   "id": "18bf844d",
   "metadata": {},
   "outputs": [],
   "source": [
    "X_train,X_test,y_train,y_test=train_test_split(X_new,y_new, test_size=0.3, random_state=0)\n",
    "\n",
    "print('X_train',X_train.shape)\n",
    "print('y_train',y_train.shape)\n",
    "print('X_test',X_test.shape)\n",
    "print('y_test',y_test.shape)"
   ]
  },
  {
   "cell_type": "code",
   "execution_count": null,
   "id": "5a5841fc",
   "metadata": {
    "scrolled": false
   },
   "outputs": [],
   "source": [
    "rf=RandomForestClassifier(max_depth=15, min_samples_leaf=10, min_samples_split=20,\n",
    "                       n_estimators=5,random_state=10)\n",
    "rf.fit(X_train,y_train)\n",
    "y_train_pred=rf.predict(X_train)\n",
    "y_train_prob=rf.predict_proba(X_train)[:,1]\n",
    "\n",
    "y_test_pred=rf.predict(X_test)\n",
    "y_test_prob=rf.predict_proba(X_test)[:,1]\n",
    "\n",
    "ConfusionMatrixDisplay.from_predictions(y_train,y_train_pred,cmap='Greys')\n",
    "plt.title('Confusion Matrix-Train',fontdict={'fontsize':15})\n",
    "plt.show()\n",
    "print('\\nClassification Report-Train :\\n',classification_report(y_train,y_train_pred))\n",
    "print('\\nAccuracy Score-Train :',accuracy_score(y_train,y_train_pred))\n",
    "print('\\nAUC Score-Train :',roc_auc_score(y_train,y_train_prob))\n",
    "print('\\nf1_Score-Train :',f1_score(y_train,y_train_pred))\n",
    "\n",
    "print('\\n'*2)\n",
    "\n",
    "ConfusionMatrixDisplay.from_predictions(y_test,y_test_pred,cmap='Greys')\n",
    "plt.title('Confusion Matrix-Test',fontdict={'fontsize':15})\n",
    "plt.show()\n",
    "print('\\nClassification Report-Test :\\n',classification_report(y_test,y_test_pred))\n",
    "print('\\nAccuracy Score-Test :',accuracy_score(y_test,y_test_pred))\n",
    "print('\\nAUC Score-Test :',roc_auc_score(y_test,y_test_prob))\n",
    "print('\\nf1_Score-Test :',f1_score(y_test,y_test_pred))\n",
    "\n",
    "print('\\n\\n\\nPlot : AUC-ROC Curve')\n",
    "fpr,tpr,thresholds= roc_curve(y_test,y_test_prob)\n",
    "fig,ax1 = plt.subplots()\n",
    "ax1.plot(fpr,tpr)\n",
    "ax1.plot(fpr,fpr)\n",
    "ax1.set_xlabel('False Positive Rate')\n",
    "ax1.set_ylabel('True Positive Rate')\n",
    "ax2=ax1.twinx()\n",
    "ax2.plot(fpr,thresholds,'-g')\n",
    "ax2.set_ylabel('THRESHOLD')\n",
    "plt.show()\n",
    "plt.show()"
   ]
  },
  {
   "cell_type": "markdown",
   "id": "25259784",
   "metadata": {},
   "source": [
    "## GridSearchCV"
   ]
  },
  {
   "cell_type": "code",
   "execution_count": null,
   "id": "54b40efa",
   "metadata": {},
   "outputs": [],
   "source": [
    "rfgrid=GridSearchCV(estimator=RandomForestClassifier(random_state=10),\n",
    "                   param_grid=[{'criterion': ['entropy', 'gini'],\n",
    "                                'n_estimators': [5,10],\n",
    "                                'max_depth':[5,10,15],\n",
    "                                'max_features': ['sqrt', 'log2'],\n",
    "                                'min_samples_leaf':[10,50,100],\n",
    "                                'min_samples_split': [20,100,200],\n",
    "                                'max_leaf_nodes': [5, 8]}],\n",
    "                   cv=5)\n",
    "\n",
    "rfgrid_fit=rfgrid.fit(X_train,y_train)\n",
    "\n",
    "print(rfgrid_fit.best_params_)"
   ]
  },
  {
   "cell_type": "code",
   "execution_count": null,
   "id": "09c556a7",
   "metadata": {},
   "outputs": [],
   "source": [
    "rfgrid_score=rfgrid_fit.score(X_train,y_train)\n",
    "rfgrid_score"
   ]
  },
  {
   "cell_type": "code",
   "execution_count": null,
   "id": "5a86110d",
   "metadata": {},
   "outputs": [],
   "source": [
    "pred=rfgrid_fit.predict(X_test)\n",
    "pred"
   ]
  },
  {
   "cell_type": "code",
   "execution_count": null,
   "id": "33267733",
   "metadata": {},
   "outputs": [],
   "source": [
    "rfgrid_score_test=rfgrid_fit.score(X_test,pred)\n",
    "rfgrid_score_test"
   ]
  },
  {
   "cell_type": "code",
   "execution_count": null,
   "id": "fe113765",
   "metadata": {
    "scrolled": false
   },
   "outputs": [],
   "source": [
    "y_train_pred=rfgrid.predict(X_train)\n",
    "y_train_prob=rfgrid.predict_proba(X_train)[:,1]\n",
    "\n",
    "y_test_pred=rfgrid.predict(X_test)\n",
    "y_test_prob=rfgrid.predict_proba(X_test)[:,1]\n",
    "\n",
    "ConfusionMatrixDisplay.from_predictions(y_train,y_train_pred,cmap='Greys')\n",
    "plt.title('Confusion Matrix-Train',fontdict={'fontsize':15})\n",
    "plt.show()\n",
    "print('\\nClassification Report-Train :\\n',classification_report(y_train,y_train_pred))\n",
    "print('\\nAccuracy Score-Train :',accuracy_score(y_train,y_train_pred))\n",
    "print('\\nAUC Score-Train :',roc_auc_score(y_train,y_train_prob))\n",
    "print('\\n'*2)\n",
    "\n",
    "ConfusionMatrixDisplay.from_predictions(y_test,y_test_pred,cmap='Greys')\n",
    "plt.title('Confusion Matrix-Test',fontdict={'fontsize':15})\n",
    "plt.show()\n",
    "print('\\nClassification Report-Test :\\n',classification_report(y_test,y_test_pred))\n",
    "print('\\nAccuracy Score-Test :',accuracy_score(y_test,y_test_pred))\n",
    "print('\\nAUC Score-Test :',roc_auc_score(y_test,y_test_prob))\n",
    "\n",
    "print('\\n\\n\\nPlot : AUC-ROC Curve')\n",
    "fpr,tpr,threshold= roc_curve(y_test,y_test_prob)\n",
    "threshold[0]=threshold[0]-1\n",
    "fig,ax1 = plt.subplots()\n",
    "ax1.plot(fpr,tpr)\n",
    "ax1.plot(fpr,fpr)\n",
    "ax1.set_xlabel('FPR')\n",
    "ax1.set_ylabel('TPR')\n",
    "ax2=ax1.twinx()\n",
    "ax2.plot(fpr,threshold,'-g')\n",
    "ax2.set_ylabel('THRESHOLD')\n",
    "plt.show()\n",
    "plt.show()"
   ]
  },
  {
   "cell_type": "markdown",
   "id": "5ddc31fe",
   "metadata": {},
   "source": [
    "## RandomisedSearchCV"
   ]
  },
  {
   "cell_type": "code",
   "execution_count": null,
   "id": "11289dd1",
   "metadata": {},
   "outputs": [],
   "source": [
    "rfrandomized=RandomizedSearchCV(estimator=RandomForestClassifier(random_state=10),\n",
    "                          param_distributions=[{'criterion': ['entropy', 'gini'],\n",
    "                                'n_estimators': [5,10],\n",
    "                                'max_depth':[5,10,15],\n",
    "                                'max_features': ['sqrt', 'log2'],\n",
    "                                'min_samples_leaf':[10,50,100],\n",
    "                                'min_samples_split': [20,100,200],\n",
    "                                'max_leaf_nodes': [5, 8]}],\n",
    "                          cv=5)\n",
    "\n",
    "rfrand_fit=rfrandomized.fit(X_train,y_train)\n",
    "\n",
    "print(rfrand_fit.best_params_)"
   ]
  },
  {
   "cell_type": "code",
   "execution_count": null,
   "id": "e563fe9e",
   "metadata": {},
   "outputs": [],
   "source": [
    "rfrand_score=rfrand_fit.score(X_train,y_train)\n",
    "rfrand_score"
   ]
  },
  {
   "cell_type": "code",
   "execution_count": null,
   "id": "a9413847",
   "metadata": {},
   "outputs": [],
   "source": [
    "pred=rfrand_fit.predict(X_test)\n",
    "pred"
   ]
  },
  {
   "cell_type": "code",
   "execution_count": null,
   "id": "a20c2647",
   "metadata": {},
   "outputs": [],
   "source": [
    "rfrand_score_test=rfrand_fit.score(X_test,pred)\n",
    "rfrand_score_test"
   ]
  },
  {
   "cell_type": "code",
   "execution_count": null,
   "id": "447d7202",
   "metadata": {
    "scrolled": false
   },
   "outputs": [],
   "source": [
    "y_train_pred=rfrand_fit.predict(X_train)\n",
    "y_train_prob=rfrand_fit.predict_proba(X_train)[:,1]\n",
    "\n",
    "y_test_pred=rfrand_fit.predict(X_test)\n",
    "y_test_prob=rfrand_fit.predict_proba(X_test)[:,1]\n",
    "\n",
    "ConfusionMatrixDisplay.from_predictions(y_train,y_train_pred,cmap='Greys')\n",
    "plt.title('Confusion Matrix-Train',fontdict={'fontsize':15})\n",
    "plt.show()\n",
    "print('\\nClassification Report-Train :\\n',classification_report(y_train,y_train_pred))\n",
    "print('\\nAccuracy Score-Train :',accuracy_score(y_train,y_train_pred))\n",
    "print('\\nAUC Score-Train :',roc_auc_score(y_train,y_train_prob))\n",
    "print('\\n'*2)\n",
    "\n",
    "ConfusionMatrixDisplay.from_predictions(y_test,y_test_pred,cmap='Greys')\n",
    "plt.title('Confusion Matrix-Test',fontdict={'fontsize':15})\n",
    "plt.show()\n",
    "print('\\nClassification Report-Test :\\n',classification_report(y_test,y_test_pred))\n",
    "print('\\nAccuracy Score-Test :',accuracy_score(y_test,y_test_pred))\n",
    "print('\\nAUC Score-Test :',roc_auc_score(y_test,y_test_prob))\n",
    "\n",
    "print('\\n\\n\\nPlot : AUC-ROC Curve')\n",
    "fpr,tpr,threshold= roc_curve(y_test,y_test_prob)\n",
    "threshold[0]=threshold[0]-1\n",
    "fig,ax1 = plt.subplots()\n",
    "ax1.plot(fpr,tpr)\n",
    "ax1.plot(fpr,fpr)\n",
    "ax1.set_xlabel('FPR')\n",
    "ax1.set_ylabel('TPR')\n",
    "ax2=ax1.twinx()\n",
    "ax2.plot(fpr,threshold,'-g')\n",
    "ax2.set_ylabel('THRESHOLD')\n",
    "plt.show()\n",
    "plt.show()"
   ]
  },
  {
   "cell_type": "markdown",
   "id": "0ae9c949",
   "metadata": {},
   "source": [
    "# Final Model with best Parameters"
   ]
  },
  {
   "cell_type": "code",
   "execution_count": null,
   "id": "eae86ffb",
   "metadata": {
    "scrolled": false
   },
   "outputs": [],
   "source": [
    "xgbc=XGBClassifier()\n",
    "xgbc.fit(X_train,y_train)\n",
    "y_train_pred=xgbc.predict(X_train)\n",
    "y_train_prob=xgbc.predict_proba(X_train)[:,1]\n",
    "\n",
    "y_test_pred=xgbc.predict(X_test)\n",
    "y_test_prob=xgbc.predict_proba(X_test)[:,1]\n",
    "\n",
    "ConfusionMatrixDisplay.from_predictions(y_train,y_train_pred,cmap='Greys')\n",
    "plt.title('Confusion Matrix-Train',fontdict={'fontsize':15})\n",
    "plt.show()\n",
    "print('\\nClassification Report-Train :\\n',classification_report(y_train,y_train_pred))\n",
    "print('\\nAccuracy Score-Train :',accuracy_score(y_train,y_train_pred))\n",
    "print('\\nAUC Score-Train :',roc_auc_score(y_train,y_train_prob))\n",
    "print('\\nf1_score Train:',f1_score(y_train,y_train_pred))\n",
    "print('\\nPrecision Train Score :',precision_score(y_train,y_train_pred))\n",
    "print('\\nRecall Train Score :',recall_score(y_train,y_train_pred))\n",
    "\n",
    "\n",
    "print('\\n'*2)\n",
    "\n",
    "ConfusionMatrixDisplay.from_predictions(y_test,y_test_pred,cmap='Greys')\n",
    "plt.title('Confusion Matrix-Test',fontdict={'fontsize':15})\n",
    "plt.show()\n",
    "print('\\nClassification Report-Test :\\n',classification_report(y_test,y_test_pred))\n",
    "print('\\nAccuracy Score-Test :',accuracy_score(y_test,y_test_pred))\n",
    "print('\\nAUC Score-Test :',roc_auc_score(y_test,y_test_prob))\n",
    "print('\\nf1_score Train:',f1_score(y_test,y_test_pred))\n",
    "print('\\nPrecision Train Score :',precision_score(y_test,y_test_pred))\n",
    "print('\\nRecall Train Score :',recall_score(y_test,y_test_pred))\n",
    "\n",
    "\n",
    "print('\\n\\n\\nPlot : AUC-ROC Curve')\n",
    "fpr,tpr,thresholds= roc_curve(y_test,y_test_prob)\n",
    "fig,ax1 = plt.subplots()\n",
    "ax1.plot(fpr,tpr)\n",
    "ax1.plot(fpr,fpr)\n",
    "ax1.set_xlabel('False Positive Rate')\n",
    "ax1.set_ylabel('True Positive Rate')\n",
    "ax2=ax1.twinx()\n",
    "ax2.plot(fpr,thresholds,'-g')\n",
    "ax2.set_ylabel('THRESHOLD')\n",
    "plt.show()\n",
    "plt.show()"
   ]
  },
  {
   "cell_type": "markdown",
   "id": "20e8fec5",
   "metadata": {},
   "source": [
    "## Cross Validation"
   ]
  },
  {
   "cell_type": "code",
   "execution_count": null,
   "id": "da033ba1",
   "metadata": {},
   "outputs": [],
   "source": [
    "cross_val = cross_val_score(xgbc,X_train,y_train ,cv = 10,scoring=\"accuracy\")"
   ]
  },
  {
   "cell_type": "code",
   "execution_count": null,
   "id": "e156bf4b",
   "metadata": {},
   "outputs": [],
   "source": [
    "cross_val"
   ]
  },
  {
   "cell_type": "code",
   "execution_count": null,
   "id": "a279baee",
   "metadata": {},
   "outputs": [],
   "source": [
    "cross_val.mean()"
   ]
  },
  {
   "cell_type": "code",
   "execution_count": null,
   "id": "0f95e8b7",
   "metadata": {},
   "outputs": [],
   "source": [
    "cross_val.std()"
   ]
  },
  {
   "cell_type": "code",
   "execution_count": null,
   "id": "7c0e3a98",
   "metadata": {},
   "outputs": [],
   "source": [
    "print(\"Accuracy: %0.5f (+/- %0.5f)\" % (cross_val.mean(), cross_val.std() * 2))"
   ]
  },
  {
   "cell_type": "markdown",
   "id": "947a9dbe",
   "metadata": {},
   "source": [
    "## Final Accuracy of the model:\n",
    "## Train Accuracy - 99.98% Test Accuracy - 99.81%"
   ]
  },
  {
   "cell_type": "code",
   "execution_count": null,
   "id": "1e74157d",
   "metadata": {},
   "outputs": [],
   "source": []
  }
 ],
 "metadata": {
  "kernelspec": {
   "display_name": "Python 3 (ipykernel)",
   "language": "python",
   "name": "python3"
  },
  "language_info": {
   "codemirror_mode": {
    "name": "ipython",
    "version": 3
   },
   "file_extension": ".py",
   "mimetype": "text/x-python",
   "name": "python",
   "nbconvert_exporter": "python",
   "pygments_lexer": "ipython3",
   "version": "3.9.12"
  }
 },
 "nbformat": 4,
 "nbformat_minor": 5
}
